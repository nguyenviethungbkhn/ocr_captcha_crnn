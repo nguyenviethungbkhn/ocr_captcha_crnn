{
 "nbformat": 4,
 "nbformat_minor": 0,
 "metadata": {
  "kernelspec": {
   "display_name": "Python 3",
   "language": "python",
   "name": "python3"
  },
  "language_info": {
   "codemirror_mode": {
    "name": "ipython",
    "version": 3
   },
   "file_extension": ".py",
   "mimetype": "text/x-python",
   "name": "python",
   "nbconvert_exporter": "python",
   "pygments_lexer": "ipython3",
   "version": "3.6.10"
  },
  "colab": {
   "name": "captcha_crnn.ipynb",
   "provenance": [],
   "collapsed_sections": [
    "wfgjIuFUnCvv"
   ],
   "toc_visible": true
  },
  "accelerator": "GPU"
 },
 "cells": [
  {
   "cell_type": "code",
   "metadata": {
    "id": "dGOSBySCnJID",
    "colab_type": "code",
    "colab": {
     "base_uri": "https://localhost:8080/",
     "height": 372
    },
    "outputId": "0db6270e-f4e2-44a8-cdac-33518db88cd5"
   },
   "source": [
    "!nvidia-smi"
   ],
   "execution_count": null,
   "outputs": [
    {
     "output_type": "stream",
     "text": [
      "Sun Sep 20 11:20:10 2020       \n",
      "+-----------------------------------------------------------------------------+\n",
      "| NVIDIA-SMI 450.66       Driver Version: 418.67       CUDA Version: 10.1     |\n",
      "|-------------------------------+----------------------+----------------------+\n",
      "| GPU  Name        Persistence-M| Bus-Id        Disp.A | Volatile Uncorr. ECC |\n",
      "| Fan  Temp  Perf  Pwr:Usage/Cap|         Memory-Usage | GPU-Util  Compute M. |\n",
      "|                               |                      |               MIG M. |\n",
      "|===============================+======================+======================|\n",
      "|   0  Tesla P100-PCIE...  Off  | 00000000:00:04.0 Off |                    0 |\n",
      "| N/A   45C    P0    28W / 250W |      0MiB / 16280MiB |      0%      Default |\n",
      "|                               |                      |                 ERR! |\n",
      "+-------------------------------+----------------------+----------------------+\n",
      "                                                                               \n",
      "+-----------------------------------------------------------------------------+\n",
      "| Processes:                                                                  |\n",
      "|  GPU   GI   CI        PID   Type   Process name                  GPU Memory |\n",
      "|        ID   ID                                                   Usage      |\n",
      "|=============================================================================|\n",
      "|  No running processes found                                                 |\n",
      "+-----------------------------------------------------------------------------+\n"
     ],
     "name": "stdout"
    }
   ]
  },
  {
   "cell_type": "code",
   "metadata": {
    "id": "Drs8JadJWdXy",
    "colab_type": "code",
    "colab": {
     "base_uri": "https://localhost:8080/",
     "height": 35
    },
    "outputId": "2d63db2a-4cc1-40b8-e288-fc25bff59f97"
   },
   "source": [
    "from google.colab import drive\n",
    "drive.mount('/content/drive')"
   ],
   "execution_count": null,
   "outputs": [
    {
     "output_type": "stream",
     "text": [
      "Mounted at /content/drive\n"
     ],
     "name": "stdout"
    }
   ]
  },
  {
   "cell_type": "code",
   "metadata": {
    "id": "9B31SQm0swrz",
    "colab_type": "code",
    "colab": {}
   },
   "source": [
    "!rm -rf data.zip data"
   ],
   "execution_count": null,
   "outputs": []
  },
  {
   "cell_type": "code",
   "metadata": {
    "id": "nPz1_eddnK4l",
    "colab_type": "code",
    "colab": {}
   },
   "source": [
    "# !wget -O data.zip https://husteduvn-my.sharepoint.com/:u:/g/personal/thanh_lt163705_sis_hust_edu_vn/ETCbjEkUyvhPpdqhg0E0V3YBJeN_Uq2oRDLJI2jSdKKzUw?download=1\n",
    "\n",
    "# data1\n",
    "# !wget -O data.zip https://husteduvn-my.sharepoint.com/:u:/g/personal/thanh_lt163705_sis_hust_edu_vn/EUQfdEOSdZlCrVzLjTD6aXgB-NunLAsKNF9XaiVQ1f8r-Q?download=1\n",
    "\n",
    "# data2\n",
    "# !wget -O data.zip https://husteduvn-my.sharepoint.com/:u:/g/personal/thanh_lt163705_sis_hust_edu_vn/EXGkNZ3LrCNFlj-mdJZbWjgBCCQzBdVRszfSzLkuDtSrmQ?download=1\n",
    "\n",
    "# data3\n",
    "# !wget -O data.zip https://husteduvn-my.sharepoint.com/:u:/g/personal/thanh_lt163705_sis_hust_edu_vn/EXQuNXRqWGBKvT6AfO3c4JwBQANwZOwWwNwSV8mEnk-otw?download=1\n",
    "\n",
    "# data4\n",
    "# !wget -O data.zip https://husteduvn-my.sharepoint.com/:u:/g/personal/thanh_lt163705_sis_hust_edu_vn/EX11DJeFyNVJnsIGqazrgegBCcMMQjGQ3vScdzs3zy23Rw?download=1\n",
    "\n",
    "# data5\n",
    "# !wget -O data.zip https://husteduvn-my.sharepoint.com/:u:/g/personal/thanh_lt163705_sis_hust_edu_vn/EaorOODsCOBDg6VxAWx0K9UBP4a1MXXGBCKTmpBZPtLt2Q?download=1\n",
    "\n",
    "# data6\n",
    "!wget -O data.zip https://husteduvn-my.sharepoint.com/:u:/g/personal/thanh_lt163705_sis_hust_edu_vn/EcHpcI4XRINOgeDQokK9DDMBYbw2X4i7Z4OV4EhTrJB9Ww?download=1\n",
    "\n",
    "!unzip data.zip"
   ],
   "execution_count": null,
   "outputs": []
  },
  {
   "cell_type": "code",
   "metadata": {
    "id": "mWR0joI3nmU6",
    "colab_type": "code",
    "colab": {}
   },
   "source": [
    "!pip install fastai --upgrade"
   ],
   "execution_count": null,
   "outputs": []
  },
  {
   "cell_type": "code",
   "metadata": {
    "id": "hD41Kn4PnCt0",
    "colab_type": "code",
    "colab": {}
   },
   "source": [
    "#export\n",
    "import torch\n",
    "import torch.nn as nn\n",
    "from fastai.vision.all import (\n",
    "    L, Path, TensorCategory, Category,\n",
    "    Transform, Pipeline, ToTensor, Normalize, Resize, IntToFloatTensor,\n",
    "    PILImage, PILImageBW, Image, ResizeMethod, PadMode,\n",
    "    Categorize,\n",
    "    RandomSplitter,\n",
    "    Datasets,\n",
    "    Learner,\n",
    "    get_image_files,\n",
    "    show_image,\n",
    "    Metric,\n",
    "    TensorImage,\n",
    "    load_learner,\n",
    ")\n",
    "import random\n",
    "import numpy as np\n",
    "import re"
   ],
   "execution_count": null,
   "outputs": []
  },
  {
   "cell_type": "markdown",
   "metadata": {
    "pycharm": {
     "name": "#%% md\n"
    },
    "id": "SjVESCkNnCt6",
    "colab_type": "text"
   },
   "source": [
    "# Seed all"
   ]
  },
  {
   "cell_type": "code",
   "metadata": {
    "pycharm": {
     "name": "#%%\n"
    },
    "id": "XgGGbCBBnCt8",
    "colab_type": "code",
    "colab": {}
   },
   "source": [
    "#export\n",
    "def seed_all(seed_value):\n",
    "    random.seed(seed_value)\n",
    "    np.random.seed(seed_value)\n",
    "    torch.manual_seed(seed_value)\n",
    "\n",
    "    if torch.cuda.is_available():\n",
    "        torch.cuda.manual_seed(seed_value)\n",
    "        torch.cuda.manual_seed_all(seed_value)\n",
    "        torch.backends.cudnn.deterministic = True\n",
    "        torch.backends.cudnn.benchmark = False"
   ],
   "execution_count": null,
   "outputs": []
  },
  {
   "cell_type": "markdown",
   "metadata": {
    "pycharm": {
     "name": "#%% md\n"
    },
    "id": "X1x1IVQDnCt_",
    "colab_type": "text"
   },
   "source": [
    "# Load data"
   ]
  },
  {
   "cell_type": "code",
   "metadata": {
    "pycharm": {
     "name": "#%%\n"
    },
    "id": "EBJtz9jPnCt_",
    "colab_type": "code",
    "colab": {}
   },
   "source": [
    "#export\n",
    "def label_func(path: Path):\n",
    "    \"\"\"\n",
    "    Read label from file name\n",
    "    :param path: path of file\n",
    "    :return: label\n",
    "    \"\"\"\n",
    "    return list(path.name.split('.')[0])"
   ],
   "execution_count": null,
   "outputs": []
  },
  {
   "cell_type": "code",
   "metadata": {
    "pycharm": {
     "name": "#%%\n"
    },
    "id": "KOn9yBPCnCuC",
    "colab_type": "code",
    "colab": {}
   },
   "source": [
    "#export\n",
    "class CategorizeList(Categorize):\n",
    "    def __init__(self, vocab=None, add_na=False, blank='-'):\n",
    "        super(CategorizeList, self).__init__(vocab=vocab, add_na=add_na, sort=False,)\n",
    "        self.blank = blank\n",
    "\n",
    "    @property\n",
    "    def blank_idx(self):\n",
    "        return self.vocab.o2i[self.blank]\n",
    "\n",
    "    @property\n",
    "    def n_classes(self):\n",
    "        return len(self.vocab.items)\n",
    "\n",
    "    def setups(self, dsets):\n",
    "        dsets = sum(dsets, L(self.blank))\n",
    "        super(CategorizeList, self).setups(dsets=dsets)\n",
    "\n",
    "    def encodes(self, os):\n",
    "        return TensorCategory([self.vocab.o2i[o] for o in os])\n",
    "\n",
    "    def decodes(self, os, raw=False):\n",
    "        s = ''.join([self.vocab[o] for o in os])\n",
    "        if not raw:\n",
    "            s = re.sub(self.blank, '', re.sub(r'(\\w)\\1+', r'\\1', s))\n",
    "\n",
    "        return Category(s)\n"
   ],
   "execution_count": null,
   "outputs": []
  },
  {
   "cell_type": "code",
   "metadata": {
    "pycharm": {
     "name": "#%%\n"
    },
    "id": "FZNZpYfhnCuE",
    "colab_type": "code",
    "colab": {}
   },
   "source": [
    "#export\n",
    "class BeforeBatchTransform(Transform):\n",
    "    \"\"\"\n",
    "    Resize image before create batch\n",
    "    \"\"\"\n",
    "    def __init__(self, height=32, width=32 * 5, keep_ratio=False, min_ratio=5.):\n",
    "        super(BeforeBatchTransform, self).__init__()\n",
    "        self.height, self.width = height, width\n",
    "        self.keep_ratio, self.min_ratio = keep_ratio, min_ratio\n",
    "\n",
    "    def encodes(self, items):\n",
    "        images, *labels = zip(*items)\n",
    "        \n",
    "        height, width = self.height, self.width\n",
    "\n",
    "        if self.keep_ratio:\n",
    "            max_ratio = self.min_ratio\n",
    "            for image in images:\n",
    "                w, h = image.size\n",
    "                max_ratio = max(max_ratio, w / h)\n",
    "            width = int(np.floor(height * max_ratio))\n",
    "\n",
    "        rs_tfm = Resize(size=(height, width), method=ResizeMethod.Pad, pad_mode=PadMode.Border)\n",
    "        images = [rs_tfm(image) for image in images]\n",
    "        return zip(images, *labels)"
   ],
   "execution_count": null,
   "outputs": []
  },
  {
   "cell_type": "code",
   "metadata": {
    "pycharm": {
     "name": "#%%\n"
    },
    "id": "yFEFpLFlnCuG",
    "colab_type": "code",
    "colab": {}
   },
   "source": [
    "#export\n",
    "class CreateBatchTransform(Transform):\n",
    "    \"\"\"\n",
    "    Create batch\n",
    "    \"\"\"\n",
    "    def __init__(self):\n",
    "        super(CreateBatchTransform, self).__init__()\n",
    "        self.pipeline = Pipeline(funcs=[ToTensor,])\n",
    "\n",
    "    def encodes(self, items):\n",
    "        images, *labels = zip(*items)\n",
    "\n",
    "        # process images\n",
    "        images = self.pipeline(images)\n",
    "        xs = TensorImage(torch.stack(images, dim=0))\n",
    "\n",
    "        # process labels\n",
    "        if len(labels) > 0:\n",
    "            ys = labels[0]\n",
    "            y_lengths = torch.LongTensor([y.size(0) for y in ys])\n",
    "            ys = torch.cat(ys, dim=0)\n",
    "            return xs, (ys, y_lengths)\n",
    "        return xs,"
   ],
   "execution_count": null,
   "outputs": []
  },
  {
   "cell_type": "markdown",
   "metadata": {
    "pycharm": {
     "name": "#%% md\n"
    },
    "id": "eQtsbnGEnCuN",
    "colab_type": "text"
   },
   "source": [
    "## Test load data"
   ]
  },
  {
   "cell_type": "code",
   "metadata": {
    "pycharm": {
     "name": "#%%\n"
    },
    "id": "DJDHRhyonCuN",
    "colab_type": "code",
    "colab": {}
   },
   "source": [
    "data_path = Path('data/images')\n",
    "# data_path = Path('data/kaggle_data/samples')"
   ],
   "execution_count": null,
   "outputs": []
  },
  {
   "cell_type": "code",
   "metadata": {
    "pycharm": {
     "name": "#%%\n"
    },
    "id": "Mdd1T2ElnCuQ",
    "colab_type": "code",
    "colab": {}
   },
   "source": [
    "f_names = get_image_files(data_path)"
   ],
   "execution_count": null,
   "outputs": []
  },
  {
   "cell_type": "code",
   "metadata": {
    "pycharm": {
     "name": "#%%\n"
    },
    "id": "lGQBUSbmnCuS",
    "colab_type": "code",
    "colab": {}
   },
   "source": [
    "item_tfms = [PILImage.create, ]\n",
    "y_tfms = [label_func, CategorizeList(add_na=True),]\n",
    "\n",
    "ds = Datasets(\n",
    "    items=f_names,\n",
    "    tfms=[\n",
    "        item_tfms,\n",
    "        y_tfms,\n",
    "    ],\n",
    "    n_inp=1,\n",
    ")"
   ],
   "execution_count": null,
   "outputs": []
  },
  {
   "cell_type": "code",
   "metadata": {
    "pycharm": {
     "name": "#%%\n"
    },
    "id": "lM_0G_9SnCuU",
    "colab_type": "code",
    "colab": {
     "base_uri": "https://localhost:8080/",
     "height": 81
    },
    "outputId": "d29ed61e-6289-4a69-fc69-1ef759fa3d2f"
   },
   "source": [
    "ds.show(ds[0])"
   ],
   "execution_count": null,
   "outputs": [
    {
     "output_type": "execute_result",
     "data": {
      "text/plain": [
       "<matplotlib.axes._subplots.AxesSubplot at 0x7f38ebb349e8>"
      ]
     },
     "metadata": {
      "tags": []
     },
     "execution_count": 14
    },
    {
     "output_type": "display_data",
     "data": {
      "image/png": "[encoded data removed]",
      "text/plain": [
       "<Figure size 72x360 with 1 Axes>"
      ]
     },
     "metadata": {
      "tags": [],
      "needs_background": "light"
     }
    }
   ]
  },
  {
   "cell_type": "code",
   "metadata": {
    "pycharm": {
     "name": "#%%\n"
    },
    "id": "Fu4TY0oUnCuX",
    "colab_type": "code",
    "colab": {}
   },
   "source": [
    "x, y = ds[0]"
   ],
   "execution_count": null,
   "outputs": []
  },
  {
   "cell_type": "code",
   "metadata": {
    "pycharm": {
     "name": "#%%\n"
    },
    "id": "dN-XBc3WnCue",
    "colab_type": "code",
    "colab": {
     "base_uri": "https://localhost:8080/",
     "height": 35
    },
    "outputId": "bebc5062-b01c-4e30-bc2f-ab18133c2109"
   },
   "source": [
    "x, y"
   ],
   "execution_count": null,
   "outputs": [
    {
     "output_type": "execute_result",
     "data": {
      "text/plain": [
       "(PILImage mode=RGB size=160x50, TensorCategory([2, 3, 4, 5, 6]))"
      ]
     },
     "metadata": {
      "tags": []
     },
     "execution_count": 16
    }
   ]
  },
  {
   "cell_type": "code",
   "metadata": {
    "pycharm": {
     "name": "#%%\n"
    },
    "id": "x6_DjWb5nCug",
    "colab_type": "code",
    "colab": {}
   },
   "source": [
    "dl = ds.dataloaders(\n",
    "    bs=8,\n",
    "    before_batch=BeforeBatchTransform(keep_ratio=True),\n",
    "    create_batch=CreateBatchTransform(),\n",
    "    after_batch=[\n",
    "        IntToFloatTensor(), \n",
    "        Normalize.from_stats([0.5] * 3, [0.5] * 3),\n",
    "    ]\n",
    ")"
   ],
   "execution_count": null,
   "outputs": []
  },
  {
   "cell_type": "code",
   "metadata": {
    "pycharm": {
     "name": "#%%\n"
    },
    "id": "1P5ue4NdnCuj",
    "colab_type": "code",
    "colab": {}
   },
   "source": [
    "x, y = dl.one_batch()"
   ],
   "execution_count": null,
   "outputs": []
  },
  {
   "cell_type": "code",
   "metadata": {
    "pycharm": {
     "name": "#%%\n"
    },
    "id": "qaW7mB2CnCul",
    "colab_type": "code",
    "colab": {
     "base_uri": "https://localhost:8080/",
     "height": 35
    },
    "outputId": "ed163544-e45c-4d98-c0fc-45d0bf05a7ee"
   },
   "source": [
    "x.size()"
   ],
   "execution_count": null,
   "outputs": [
    {
     "output_type": "execute_result",
     "data": {
      "text/plain": [
       "torch.Size([8, 3, 32, 160])"
      ]
     },
     "metadata": {
      "tags": []
     },
     "execution_count": 19
    }
   ]
  },
  {
   "cell_type": "code",
   "metadata": {
    "pycharm": {
     "name": "#%%\n"
    },
    "id": "VawJ04I7nCun",
    "colab_type": "code",
    "colab": {
     "base_uri": "https://localhost:8080/",
     "height": 88
    },
    "outputId": "d07ddbe6-7b4a-4a49-dc69-b69d1add09b0"
   },
   "source": [
    "y[0], y[1]"
   ],
   "execution_count": null,
   "outputs": [
    {
     "output_type": "execute_result",
     "data": {
      "text/plain": [
       "(TensorCategory([47, 16,  9, 51, 31, 37, 41, 23, 43,  3, 23, 61, 10, 17, 25,  3, 23, 55,\n",
       "         51, 61, 41, 11, 17, 34, 17, 12, 52, 24, 39, 46,  7, 57, 25, 40, 56, 14,\n",
       "         30, 25,  4, 31], device='cuda:0'),\n",
       " TensorCategory([5, 5, 5, 5, 5, 5, 5, 5], device='cuda:0'))"
      ]
     },
     "metadata": {
      "tags": []
     },
     "execution_count": 20
    }
   ]
  },
  {
   "cell_type": "code",
   "metadata": {
    "id": "PgnJynjbnCup",
    "colab_type": "code",
    "colab": {}
   },
   "source": [
    "# test_dl = dl.test_dl([Path('2b827.png')], with_labels=False)"
   ],
   "execution_count": null,
   "outputs": []
  },
  {
   "cell_type": "code",
   "metadata": {
    "id": "xaus2Z5hnCut",
    "colab_type": "code",
    "colab": {}
   },
   "source": [
    "# test_dl.one_batch()"
   ],
   "execution_count": null,
   "outputs": []
  },
  {
   "cell_type": "markdown",
   "metadata": {
    "pycharm": {
     "name": "#%% md\n"
    },
    "id": "jah0EJYHnCuv",
    "colab_type": "text"
   },
   "source": [
    "# Model"
   ]
  },
  {
   "cell_type": "markdown",
   "metadata": {
    "pycharm": {
     "name": "#%% md\n"
    },
    "id": "RliMu6jLnCuw",
    "colab_type": "text"
   },
   "source": [
    "## CNN model"
   ]
  },
  {
   "cell_type": "code",
   "metadata": {
    "pycharm": {
     "name": "#%%\n"
    },
    "id": "aeVBkB_rnCuw",
    "colab_type": "code",
    "colab": {}
   },
   "source": [
    "#export\n",
    "def conv_block(in_c, out_c, ks, stride, p, bn=False, leaky_relu=False):\n",
    "    layers = list()\n",
    "    layers.append(nn.Conv2d(\n",
    "        in_channels=in_c,\n",
    "        out_channels=out_c,\n",
    "        kernel_size=ks,\n",
    "        stride=stride,\n",
    "        padding=p,\n",
    "    ))\n",
    "\n",
    "    if bn:\n",
    "        layers.append(nn.BatchNorm2d(num_features=out_c))\n",
    "\n",
    "    if leaky_relu:\n",
    "        layers.append(nn.LeakyReLU(0.2, True))\n",
    "    else:\n",
    "        layers.append(nn.ReLU())\n",
    "    return layers\n",
    "\n",
    "class CNN(nn.Module):\n",
    "    def __init__(self, in_channels=3, leaky_relu=False,):\n",
    "        super(CNN, self).__init__()\n",
    "        ks = [3, 3, 3, 3, 3, 3, 2]\n",
    "        s  = [1, 1, 1, 1, 1, 1, 1]\n",
    "        p  = [1, 1, 1, 1, 1, 1, 0]\n",
    "        c  = [64, 128, 256, 256, 512, 512, 512]\n",
    "        mp = [(2, 2), (2, 2), None, ((1, 2), 2), None, ((1, 2), 2), None]\n",
    "        bn = [False, False, False, False, True, True, False]\n",
    "\n",
    "        layers = []\n",
    "        for i in range(len(ks)):\n",
    "            in_c = in_channels if i == 0 else c[i - 1]\n",
    "            layers.extend(conv_block(in_c=in_c, out_c=c[i], ks=ks[i], stride=s[i], p=p[i], bn=bn[i], leaky_relu=leaky_relu))\n",
    "            if mp[i] is not None:\n",
    "                kernel_size, stride = mp[i]\n",
    "                layers.append(nn.MaxPool2d(kernel_size=kernel_size, stride=stride))\n",
    "\n",
    "        self.cnn = nn.Sequential(*layers)\n",
    "\n",
    "    def forward(self, x):\n",
    "        out = self.cnn(x)\n",
    "        return out"
   ],
   "execution_count": null,
   "outputs": []
  },
  {
   "cell_type": "markdown",
   "metadata": {
    "pycharm": {
     "name": "#%% md\n"
    },
    "id": "cc8uRFaenCuz",
    "colab_type": "text"
   },
   "source": [
    "## RNN model"
   ]
  },
  {
   "cell_type": "code",
   "metadata": {
    "pycharm": {
     "name": "#%%\n"
    },
    "id": "4WP-VCRZnCuz",
    "colab_type": "code",
    "colab": {}
   },
   "source": [
    "#export\n",
    "class RNN(nn.Module):\n",
    "    def __init__(self, input_size, hidden_size, output_size, batch_first=False, bidirectional=True):\n",
    "        super(RNN, self).__init__()\n",
    "        self.input_size, self.hidden_size, self.output_size = input_size, hidden_size, output_size\n",
    "        self.batch_first, self.bidirectional = batch_first, bidirectional\n",
    "\n",
    "        self.lstm = nn.LSTM(\n",
    "            input_size=input_size,\n",
    "            hidden_size=hidden_size,\n",
    "            bidirectional=bidirectional,\n",
    "            batch_first=batch_first,\n",
    "        )\n",
    "\n",
    "        self.h2o = nn.Linear(in_features=hidden_size * 2 if bidirectional else hidden_size, out_features=output_size)\n",
    "\n",
    "    def forward(self, x):\n",
    "        out, _ = self.lstm(x)\n",
    "        return self.h2o(out)"
   ],
   "execution_count": null,
   "outputs": []
  },
  {
   "cell_type": "markdown",
   "metadata": {
    "pycharm": {
     "name": "#%% md\n"
    },
    "id": "qz_yc7oXnCu1",
    "colab_type": "text"
   },
   "source": [
    "## CRNN model = CNN + RNN"
   ]
  },
  {
   "cell_type": "code",
   "metadata": {
    "pycharm": {
     "name": "#%%\n"
    },
    "id": "If1jOt6onCu1",
    "colab_type": "code",
    "colab": {}
   },
   "source": [
    "#export\n",
    "class CRNN(nn.Module):\n",
    "    def __init__(self, in_channels, rnn_hidden_size, n_classes, leaky_relu=False):\n",
    "        super(CRNN, self).__init__()\n",
    "        self.cnn = CNN(in_channels=in_channels, leaky_relu=leaky_relu)\n",
    "        self.rnn = nn.Sequential(\n",
    "            RNN(\n",
    "                input_size=512,\n",
    "                hidden_size=rnn_hidden_size,\n",
    "                output_size=rnn_hidden_size,\n",
    "                batch_first=False,\n",
    "                bidirectional=True\n",
    "            ),\n",
    "            RNN(\n",
    "                input_size=rnn_hidden_size,\n",
    "                hidden_size=rnn_hidden_size,\n",
    "                output_size=n_classes,\n",
    "                batch_first=False,\n",
    "                bidirectional=True\n",
    "            ),\n",
    "        )\n",
    "\n",
    "    def forward(self, x):\n",
    "        cnn_out = self.cnn(x)\n",
    "        cnn_out = cnn_out.squeeze(2).permute(2, 0, 1)\n",
    "        rnn_out = self.rnn(cnn_out)\n",
    "        return rnn_out"
   ],
   "execution_count": null,
   "outputs": []
  },
  {
   "cell_type": "markdown",
   "metadata": {
    "pycharm": {
     "name": "#%% md\n"
    },
    "id": "LCrR9f1TnCu3",
    "colab_type": "text"
   },
   "source": [
    "## CTC Loss"
   ]
  },
  {
   "cell_type": "code",
   "metadata": {
    "pycharm": {
     "name": "#%%\n"
    },
    "id": "jgRTk-G0nCu4",
    "colab_type": "code",
    "colab": {}
   },
   "source": [
    "#export\n",
    "class CTCLoss(nn.Module):\n",
    "    def __init__(self, blank=0):\n",
    "        super(CTCLoss, self).__init__()\n",
    "        self.ctc_loss = nn.CTCLoss(blank=blank, zero_infinity=True)\n",
    "\n",
    "    def forward(self, output, target):\n",
    "        T, N, C = output.size()\n",
    "        target, target_lengths = target\n",
    "        output_lengths = torch.full(size=(N,), fill_value=T, dtype=torch.long, device=output.device)\n",
    "        output = output.log_softmax(2)\n",
    "        return self.ctc_loss(output, target, output_lengths, target_lengths)"
   ],
   "execution_count": null,
   "outputs": []
  },
  {
   "cell_type": "markdown",
   "metadata": {
    "pycharm": {
     "name": "#%% md\n"
    },
    "id": "xXjA1EItnCu6",
    "colab_type": "text"
   },
   "source": [
    "## Accuracy metric"
   ]
  },
  {
   "cell_type": "code",
   "metadata": {
    "pycharm": {
     "name": "#%%\n"
    },
    "id": "WuXEwgx5nCu6",
    "colab_type": "code",
    "colab": {}
   },
   "source": [
    "#export\n",
    "class AccMetric(Metric):\n",
    "    def __init__(self):\n",
    "        self.y_true, self.y_pred = [], []\n",
    "\n",
    "    def reset(self):\n",
    "        self.y_true, self.y_pred = [], []\n",
    "\n",
    "    def accumulate(self, learn):\n",
    "        label_categorize = learn.dls.tfms[1][-1]\n",
    "        yb_pred = learn.pred.permute(1, 0, 2).argmax(dim=2)\n",
    "        (yb, y_lengths), = learn.yb\n",
    "\n",
    "        yb = torch.split(yb, y_lengths.cpu().tolist())\n",
    "        self.y_true.extend([label_categorize.decode(y, raw=True) for y in yb])\n",
    "\n",
    "        self.y_pred.extend([label_categorize.decode(y) for y in yb_pred])\n",
    "\n",
    "    @property\n",
    "    def value(self):\n",
    "#         print(self.y_pred[:4], self.y_true[:4])\n",
    "        n_correct = (np.array(self.y_pred) == np.array(self.y_true)).sum()\n",
    "        return n_correct / float(len(self.y_true))\n",
    "\n",
    "    @property\n",
    "    def name(self):\n",
    "        return 'accuracy'\n"
   ],
   "execution_count": null,
   "outputs": []
  },
  {
   "cell_type": "markdown",
   "metadata": {
    "pycharm": {
     "name": "#%% md\n"
    },
    "id": "Bb03aZmOnCu8",
    "colab_type": "text"
   },
   "source": [
    "### Test model and loss func"
   ]
  },
  {
   "cell_type": "code",
   "metadata": {
    "pycharm": {
     "name": "#%%\n"
    },
    "id": "YVxsLp_5nCu8",
    "colab_type": "code",
    "colab": {}
   },
   "source": [
    "model = CRNN(in_channels=3, rnn_hidden_size=256, n_classes=ds.tfms[1][-1].n_classes, leaky_relu=True,)\n",
    "model = model.cuda()"
   ],
   "execution_count": null,
   "outputs": []
  },
  {
   "cell_type": "code",
   "metadata": {
    "pycharm": {
     "name": "#%%\n"
    },
    "id": "L_sD5SfGnCu_",
    "colab_type": "code",
    "colab": {
     "base_uri": "https://localhost:8080/",
     "height": 35
    },
    "outputId": "d1dcf5f0-6665-4d28-b745-245f2916f812"
   },
   "source": [
    "out = model(x)\n",
    "out.size()"
   ],
   "execution_count": null,
   "outputs": [
    {
     "output_type": "execute_result",
     "data": {
      "text/plain": [
       "torch.Size([9, 8, 64])"
      ]
     },
     "metadata": {
      "tags": []
     },
     "execution_count": 27
    }
   ]
  },
  {
   "cell_type": "code",
   "metadata": {
    "pycharm": {
     "name": "#%%\n"
    },
    "id": "dT7uSVKbnCvB",
    "colab_type": "code",
    "colab": {}
   },
   "source": [
    "loss_func = CTCLoss(blank=ds.tfms[1][-1].blank_idx)"
   ],
   "execution_count": null,
   "outputs": []
  },
  {
   "cell_type": "code",
   "metadata": {
    "pycharm": {
     "name": "#%%\n"
    },
    "id": "xcByMRn7nCvD",
    "colab_type": "code",
    "colab": {
     "base_uri": "https://localhost:8080/",
     "height": 35
    },
    "outputId": "dc41e5f3-b1bf-4fbd-fc48-fbec8e229dc6"
   },
   "source": [
    "loss_func(out, y)"
   ],
   "execution_count": null,
   "outputs": [
    {
     "output_type": "execute_result",
     "data": {
      "text/plain": [
       "tensor(6.0912, device='cuda:0', grad_fn=<MeanBackward0>)"
      ]
     },
     "metadata": {
      "tags": []
     },
     "execution_count": 29
    }
   ]
  },
  {
   "cell_type": "markdown",
   "metadata": {
    "pycharm": {
     "name": "#%% md\n"
    },
    "id": "3vUVIOponCvF",
    "colab_type": "text"
   },
   "source": [
    "# Train model"
   ]
  },
  {
   "cell_type": "markdown",
   "metadata": {
    "pycharm": {
     "name": "#%% md\n"
    },
    "id": "YDynJghqnCvF",
    "colab_type": "text"
   },
   "source": [
    "## Config"
   ]
  },
  {
   "cell_type": "code",
   "metadata": {
    "pycharm": {
     "name": "#%%\n"
    },
    "id": "qusK0eu9nCvG",
    "colab_type": "code",
    "colab": {}
   },
   "source": [
    "#export\n",
    "data_path = Path('data/images')\n",
    "# data_path = Path('data/kaggle_data/samples')\n",
    "bs = 256"
   ],
   "execution_count": null,
   "outputs": []
  },
  {
   "cell_type": "code",
   "metadata": {
    "id": "10KYGwY1WsSL",
    "colab_type": "code",
    "colab": {}
   },
   "source": [
    "#export\n",
    "model_dir = Path('drive/My Drive/models/ocr_crnn_captcha')"
   ],
   "execution_count": null,
   "outputs": []
  },
  {
   "cell_type": "markdown",
   "metadata": {
    "pycharm": {
     "name": "#%% md\n"
    },
    "id": "dfqm3K_rnCvI",
    "colab_type": "text"
   },
   "source": [
    "## Load data"
   ]
  },
  {
   "cell_type": "code",
   "metadata": {
    "pycharm": {
     "name": "#%%\n"
    },
    "id": "ceN4tw9YnCvI",
    "colab_type": "code",
    "colab": {
     "base_uri": "https://localhost:8080/",
     "height": 55
    },
    "outputId": "6e14a44b-4ba9-4bad-d204-bd0e2ad7af3f"
   },
   "source": [
    "#export\n",
    "f_names = get_image_files(data_path)"
   ],
   "execution_count": null,
   "outputs": [
    {
     "output_type": "execute_result",
     "data": {
      "text/plain": [
       "(#293114) [Path('data/images/zc5cllzq.png'),Path('data/images/tte2lle.png'),Path('data/images/92101808.png'),Path('data/images/363118.png'),Path('data/images/4248242.png'),Path('data/images/43159.png'),Path('data/images/65875470.png'),Path('data/images/32799.png'),Path('data/images/w07q8.png'),Path('data/images/075721.png')...]"
      ]
     },
     "metadata": {
      "tags": []
     },
     "execution_count": 39
    }
   ]
  },
  {
   "cell_type": "code",
   "metadata": {
    "pycharm": {
     "name": "#%%\n"
    },
    "id": "96L876qmnCvK",
    "colab_type": "code",
    "colab": {
     "base_uri": "https://localhost:8080/",
     "height": 105
    },
    "outputId": "ea648f1e-d277-4554-ccac-fb438bd11661"
   },
   "source": [
    "#export\n",
    "item_tfms = [PILImage.create, ]\n",
    "y_tfms = [label_func, CategorizeList(add_na=False),]\n",
    "\n",
    "ds = Datasets(\n",
    "    items=f_names,\n",
    "    tfms=[\n",
    "        item_tfms,\n",
    "        y_tfms,\n",
    "    ],\n",
    "    splits=RandomSplitter(valid_pct=0.2, seed=42)(f_names),\n",
    ")\n",
    "ds.show(ds[0])"
   ],
   "execution_count": null,
   "outputs": [
    {
     "output_type": "execute_result",
     "data": {
      "text/plain": [
       "<matplotlib.axes._subplots.AxesSubplot at 0x7f55d6074c88>"
      ]
     },
     "metadata": {
      "tags": []
     },
     "execution_count": 40
    },
    {
     "output_type": "display_data",
     "data": {
      "image/png": "[encoded data removed]",
      "text/plain": [
       "<Figure size 144x360 with 1 Axes>"
      ]
     },
     "metadata": {
      "tags": [],
      "needs_background": "light"
     }
    }
   ]
  },
  {
   "cell_type": "code",
   "metadata": {
    "pycharm": {
     "name": "#%%\n"
    },
    "id": "EoSd-ww-nCvM",
    "colab_type": "code",
    "colab": {}
   },
   "source": [
    "#export\n",
    "dls = ds.dataloaders(\n",
    "    bs=bs,\n",
    "    before_batch=BeforeBatchTransform(keep_ratio=True),\n",
    "    create_batch=CreateBatchTransform(),\n",
    "    after_batch=[IntToFloatTensor, Normalize.from_stats([0.5] * 3, [0.5] * 3)],\n",
    ")"
   ],
   "execution_count": null,
   "outputs": []
  },
  {
   "cell_type": "code",
   "metadata": {
    "pycharm": {
     "name": "#%%\n"
    },
    "id": "3nPV98H9nCvO",
    "colab_type": "code",
    "colab": {}
   },
   "source": [
    "# dls.one_batch()"
   ],
   "execution_count": null,
   "outputs": []
  },
  {
   "cell_type": "markdown",
   "metadata": {
    "pycharm": {
     "name": "#%% md\n"
    },
    "id": "QOF1GvgpnCvQ",
    "colab_type": "text"
   },
   "source": [
    "## Create model"
   ]
  },
  {
   "cell_type": "code",
   "metadata": {
    "pycharm": {
     "name": "#%%\n"
    },
    "id": "wF62v0VlnCvQ",
    "colab_type": "code",
    "colab": {}
   },
   "source": [
    "#export\n",
    "model = CRNN(in_channels=3, rnn_hidden_size=256, n_classes=ds.tfms[1][-1].n_classes, leaky_relu=False)\n",
    "loss_func = CTCLoss(blank=ds.tfms[1][-1].blank_idx)"
   ],
   "execution_count": null,
   "outputs": []
  },
  {
   "cell_type": "code",
   "metadata": {
    "pycharm": {
     "name": "#%%\n"
    },
    "id": "OOh9TSGenCvS",
    "colab_type": "code",
    "colab": {
     "base_uri": "https://localhost:8080/",
     "height": 35
    },
    "outputId": "034f6b24-8745-47cc-a98c-6291216d1c02"
   },
   "source": [
    "ds.tfms[1][-1].vocab"
   ],
   "execution_count": null,
   "outputs": [
    {
     "output_type": "execute_result",
     "data": {
      "text/plain": [
       "(#37) ['-','x','n','s','b','o','q','e','d','2'...]"
      ]
     },
     "metadata": {
      "tags": []
     },
     "execution_count": 71
    }
   ]
  },
  {
   "cell_type": "markdown",
   "metadata": {
    "pycharm": {
     "name": "#%% md\n"
    },
    "id": "qWQG67EFnCvU",
    "colab_type": "text"
   },
   "source": [
    "## Create learner"
   ]
  },
  {
   "cell_type": "code",
   "metadata": {
    "pycharm": {
     "name": "#%%\n"
    },
    "id": "KWqIek-_nCvU",
    "colab_type": "code",
    "colab": {}
   },
   "source": [
    "#export\n",
    "learner = Learner(\n",
    "    dls=dls,\n",
    "    model=model,\n",
    "    loss_func=loss_func,\n",
    "    metrics=[AccMetric()]\n",
    ")"
   ],
   "execution_count": null,
   "outputs": []
  },
  {
   "cell_type": "code",
   "metadata": {
    "id": "rmkcojmrGEGp",
    "colab_type": "code",
    "colab": {}
   },
   "source": [
    "learner = learner.to_fp16()"
   ],
   "execution_count": null,
   "outputs": []
  },
  {
   "cell_type": "markdown",
   "metadata": {
    "pycharm": {
     "name": "#%% md\n"
    },
    "id": "RjjEzYaWnCvW",
    "colab_type": "text"
   },
   "source": [
    "## Training"
   ]
  },
  {
   "cell_type": "code",
   "metadata": {
    "pycharm": {
     "name": "#%%\n"
    },
    "id": "qtHIorQinCvW",
    "colab_type": "code",
    "colab": {
     "base_uri": "https://localhost:8080/",
     "height": 301
    },
    "outputId": "20be1c34-f6f9-4998-a085-6fd2edf90313"
   },
   "source": [
    "#export\n",
    "# learning rate finder\n",
    "learner.lr_find()"
   ],
   "execution_count": null,
   "outputs": [
    {
     "output_type": "display_data",
     "data": {
      "text/html": [
       ""
      ],
      "text/plain": [
       "<IPython.core.display.HTML object>"
      ]
     },
     "metadata": {
      "tags": []
     }
    },
    {
     "output_type": "execute_result",
     "data": {
      "text/plain": [
       "SuggestedLRs(lr_min=0.012022644281387329, lr_steep=0.0002754228771664202)"
      ]
     },
     "metadata": {
      "tags": []
     },
     "execution_count": 74
    },
    {
     "output_type": "display_data",
     "data": {
      "image/png": "[encoded data removed]",
      "text/plain": [
       "<Figure size 432x288 with 1 Axes>"
      ]
     },
     "metadata": {
      "tags": [],
      "needs_background": "light"
     }
    }
   ]
  },
  {
   "cell_type": "code",
   "metadata": {
    "pycharm": {
     "name": "#%%\n"
    },
    "id": "il2Y4QabnCvY",
    "colab_type": "code",
    "colab": {}
   },
   "source": [
    "#export\n",
    "# fit one cycle\n",
    "learner.fit_one_cycle(30, lr=1e-3)"
   ],
   "execution_count": null,
   "outputs": []
  },
  {
   "cell_type": "code",
   "metadata": {
    "pycharm": {
     "name": "#%%\n"
    },
    "id": "SSuVAiTnnCvb",
    "colab_type": "code",
    "colab": {
     "base_uri": "https://localhost:8080/",
     "height": 35
    },
    "outputId": "cc447b7f-a587-4b8f-cc61-67fd513c48ed"
   },
   "source": [
    "#export\n",
    "learner.model_dir = model_dir\n",
    "learner.save('captcha_6271_data6')"
   ],
   "execution_count": null,
   "outputs": [
    {
     "output_type": "execute_result",
     "data": {
      "text/plain": [
       "Path('drive/My Drive/models/ocr_crnn_captcha/captcha_6271_data6.pth')"
      ]
     },
     "metadata": {
      "tags": []
     },
     "execution_count": 48
    }
   ]
  },
  {
   "cell_type": "code",
   "metadata": {
    "pycharm": {
     "name": "#%%\n"
    },
    "id": "54yTOX2rnCve",
    "colab_type": "code",
    "colab": {}
   },
   "source": [
    "#export\n",
    "learner.export(model_dir/'captcha_6271_data6.pkl')"
   ],
   "execution_count": null,
   "outputs": []
  },
  {
   "cell_type": "markdown",
   "metadata": {
    "pycharm": {
     "name": "#%% md\n"
    },
    "id": "CmbGqCypnCvg",
    "colab_type": "text"
   },
   "source": [
    "## Predict\n"
   ]
  },
  {
   "cell_type": "markdown",
   "metadata": {
    "pycharm": {
     "name": "#%% md\n"
    },
    "id": "n1MPp67RnCvh",
    "colab_type": "text"
   },
   "source": [
    "### Load learner"
   ]
  },
  {
   "cell_type": "code",
   "metadata": {
    "pycharm": {
     "name": "#%%\n"
    },
    "id": "7AEac7q2nCvh",
    "colab_type": "code",
    "colab": {}
   },
   "source": [
    "#export\n",
    "learner = load_learner(model_dir/'captcha_6271_data6.pkl')"
   ],
   "execution_count": null,
   "outputs": []
  },
  {
   "cell_type": "markdown",
   "metadata": {
    "id": "TemG90JVnCvk",
    "colab_type": "text"
   },
   "source": [
    "### Load test_dl"
   ]
  },
  {
   "cell_type": "code",
   "metadata": {
    "pycharm": {
     "name": "#%%\n"
    },
    "id": "SGXrEW31nCvk",
    "colab_type": "code",
    "colab": {}
   },
   "source": [
    "#export\n",
    "test_files = get_image_files('data/test_images')"
   ],
   "execution_count": null,
   "outputs": []
  },
  {
   "cell_type": "code",
   "metadata": {
    "pycharm": {
     "name": "#%%\n"
    },
    "id": "I_aahBxknCvo",
    "colab_type": "code",
    "colab": {}
   },
   "source": [
    "#export\n",
    "test_dl = learner.dls.test_dl(test_files, with_labels=True)"
   ],
   "execution_count": null,
   "outputs": []
  },
  {
   "cell_type": "code",
   "metadata": {
    "pycharm": {
     "name": "#%%\n"
    },
    "id": "1pOKAL4QnCvr",
    "colab_type": "code",
    "colab": {
     "base_uri": "https://localhost:8080/",
     "height": 35
    },
    "outputId": "9a9c5e56-0eb7-4f32-ba8e-a851befdcacf"
   },
   "source": [
    "test_dl.one_batch()[0].size()"
   ],
   "execution_count": null,
   "outputs": [
    {
     "output_type": "execute_result",
     "data": {
      "text/plain": [
       "torch.Size([256, 3, 32, 160])"
      ]
     },
     "metadata": {
      "tags": []
     },
     "execution_count": 28
    }
   ]
  },
  {
   "cell_type": "markdown",
   "metadata": {
    "pycharm": {
     "name": "#%% md\n"
    },
    "id": "KvFilULhnCvt",
    "colab_type": "text"
   },
   "source": [
    "### Get predictions"
   ]
  },
  {
   "cell_type": "code",
   "metadata": {
    "id": "g6SC9hcW1ZYx",
    "colab_type": "code",
    "colab": {
     "base_uri": "https://localhost:8080/",
     "height": 35
    },
    "outputId": "5470b379-9d5e-4568-d518-bfeb57ba54f2"
   },
   "source": [
    "#export\n",
    "learner.validate(dl=test_dl)"
   ],
   "execution_count": null,
   "outputs": [
    {
     "output_type": "display_data",
     "data": {
      "text/html": [
       ""
      ],
      "text/plain": [
       "<IPython.core.display.HTML object>"
      ]
     },
     "metadata": {
      "tags": []
     }
    },
    {
     "output_type": "execute_result",
     "data": {
      "text/plain": [
       "(#2) [0.231215238571167,0.8594556308813114]"
      ]
     },
     "metadata": {
      "tags": []
     },
     "execution_count": 29
    }
   ]
  },
  {
   "cell_type": "code",
   "metadata": {
    "id": "3d2Vq_bB5MKo",
    "colab_type": "code",
    "colab": {}
   },
   "source": [
    "test_dl = learner.dls.test_dl(test_files, with_labels=False)"
   ],
   "execution_count": null,
   "outputs": []
  },
  {
   "cell_type": "code",
   "metadata": {
    "pycharm": {
     "name": "#%%\n"
    },
    "id": "eNW9Gbn7nCvt",
    "colab_type": "code",
    "colab": {
     "base_uri": "https://localhost:8080/",
     "height": 35
    },
    "outputId": "284e1193-a5e2-4e39-c3c8-60b4d1c0b77f"
   },
   "source": [
    "preds = learner.get_preds(dl=test_dl, reorder=False,concat_dim=1)[0]"
   ],
   "execution_count": null,
   "outputs": [
    {
     "output_type": "display_data",
     "data": {
      "text/html": [
       ""
      ],
      "text/plain": [
       "<IPython.core.display.HTML object>"
      ]
     },
     "metadata": {
      "tags": []
     }
    },
    {
     "output_type": "stream",
     "text": [
      "/usr/local/lib/python3.6/dist-packages/ipykernel_launcher.py:22: RuntimeWarning: invalid value encountered in true_divide\n"
     ],
     "name": "stderr"
    }
   ]
  },
  {
   "cell_type": "code",
   "metadata": {
    "id": "-9ln8Hq63rj5",
    "colab_type": "code",
    "colab": {}
   },
   "source": [
    "# pred = preds[0].permute(1, 0, 2)"
   ],
   "execution_count": null,
   "outputs": []
  },
  {
   "cell_type": "code",
   "metadata": {
    "id": "psGt6a-d7wtU",
    "colab_type": "code",
    "colab": {}
   },
   "source": [
    "# pred_labels = [learner.dls.tfms[-1][-1].decode(preds[:,i,:].argmax(dim=-1)) for i in range(preds.size(1))]"
   ],
   "execution_count": null,
   "outputs": []
  },
  {
   "cell_type": "code",
   "metadata": {
    "id": "3IkRuWeG8FAw",
    "colab_type": "code",
    "colab": {
     "base_uri": "https://localhost:8080/",
     "height": 1000
    },
    "outputId": "410902b5-b943-48ce-e7c2-d2186cedcad4"
   },
   "source": [
    "for i in range(15):\n",
    "    # print(pred_labels[i])\n",
    "    learner.dls.dataset.show((test_dl.dataset[i], TensorCategory(preds[:,i,:].argmax(dim=-1))))"
   ],
   "execution_count": null,
   "outputs": [
    {
     "output_type": "display_data",
     "data": {
      "image/png": "[encoded data removed]",
      "text/plain": [
       "<Figure size 144x360 with 1 Axes>"
      ]
     },
     "metadata": {
      "tags": [],
      "needs_background": "light"
     }
    },
    {
     "output_type": "display_data",
     "data": {
      "image/png": "[encoded data removed]",
      "text/plain": [
       "<Figure size 144x360 with 1 Axes>"
      ]
     },
     "metadata": {
      "tags": [],
      "needs_background": "light"
     }
    },
    {
     "output_type": "display_data",
     "data": {
      "image/png": "[encoded data removed]",
      "text/plain": [
       "<Figure size 144x360 with 1 Axes>"
      ]
     },
     "metadata": {
      "tags": [],
      "needs_background": "light"
     }
    },
    {
     "output_type": "display_data",
     "data": {
      "image/png": "[encoded data removed]",
      "text/plain": [
       "<Figure size 144x360 with 1 Axes>"
      ]
     },
     "metadata": {
      "tags": [],
      "needs_background": "light"
     }
    },
    {
     "output_type": "display_data",
     "data": {
      "image/png": "[encoded data removed]",
      "text/plain": [
       "<Figure size 144x360 with 1 Axes>"
      ]
     },
     "metadata": {
      "tags": [],
      "needs_background": "light"
     }
    },
    {
     "output_type": "display_data",
     "data": {
      "image/png": "[encoded data removed]",
      "text/plain": [
       "<Figure size 144x360 with 1 Axes>"
      ]
     },
     "metadata": {
      "tags": [],
      "needs_background": "light"
     }
    },
    {
     "output_type": "display_data",
     "data": {
      "image/png": "[encoded data removed]",
      "text/plain": [
       "<Figure size 144x360 with 1 Axes>"
      ]
     },
     "metadata": {
      "tags": [],
      "needs_background": "light"
     }
    },
    {
     "output_type": "display_data",
     "data": {
      "image/png": "[encoded data removed]",
      "text/plain": [
       "<Figure size 144x360 with 1 Axes>"
      ]
     },
     "metadata": {
      "tags": [],
      "needs_background": "light"
     }
    },
    {
     "output_type": "display_data",
     "data": {
      "image/png": "[encoded data removed]",
      "text/plain": [
       "<Figure size 144x360 with 1 Axes>"
      ]
     },
     "metadata": {
      "tags": [],
      "needs_background": "light"
     }
    },
    {
     "output_type": "display_data",
     "data": {
      "image/png": "[encoded data removed]",
      "text/plain": [
       "<Figure size 144x360 with 1 Axes>"
      ]
     },
     "metadata": {
      "tags": [],
      "needs_background": "light"
     }
    },
    {
     "output_type": "display_data",
     "data": {
      "image/png": "[encoded data removed]",
      "text/plain": [
       "<Figure size 144x360 with 1 Axes>"
      ]
     },
     "metadata": {
      "tags": [],
      "needs_background": "light"
     }
    },
    {
     "output_type": "display_data",
     "data": {
      "image/png": "[encoded data removed]",
      "text/plain": [
       "<Figure size 144x360 with 1 Axes>"
      ]
     },
     "metadata": {
      "tags": [],
      "needs_background": "light"
     }
    },
    {
     "output_type": "display_data",
     "data": {
      "image/png": "[encoded data removed]",
      "text/plain": [
       "<Figure size 144x360 with 1 Axes>"
      ]
     },
     "metadata": {
      "tags": [],
      "needs_background": "light"
     }
    },
    {
     "output_type": "display_data",
     "data": {
      "image/png": "[encoded data removed]",
      "text/plain": [
       "<Figure size 144x360 with 1 Axes>"
      ]
     },
     "metadata": {
      "tags": [],
      "needs_background": "light"
     }
    },
    {
     "output_type": "display_data",
     "data": {
      "image/png": "[encoded data removed]",
      "text/plain": [
       "<Figure size 144x360 with 1 Axes>"
      ]
     },
     "metadata": {
      "tags": [],
      "needs_background": "light"
     }
    }
   ]
  },
  {
   "cell_type": "code",
   "metadata": {
    "id": "MKMvONdB41LP",
    "colab_type": "code",
    "colab": {
     "base_uri": "https://localhost:8080/",
     "height": 35
    },
    "outputId": "e61cc505-845c-4d98-dd5a-85bad9bfeb17"
   },
   "source": [
    "learner.model(test_dl.one_batch()[0]).size()"
   ],
   "execution_count": null,
   "outputs": [
    {
     "output_type": "execute_result",
     "data": {
      "text/plain": [
       "torch.Size([9, 64, 63])"
      ]
     },
     "metadata": {
      "tags": []
     },
     "execution_count": 51
    }
   ]
  },
  {
   "cell_type": "markdown",
   "metadata": {
    "pycharm": {
     "name": "#%% md\n"
    },
    "id": "wfgjIuFUnCvv",
    "colab_type": "text"
   },
   "source": [
    "### Get prediction text"
   ]
  },
  {
   "cell_type": "code",
   "metadata": {
    "pycharm": {
     "name": "#%%\n"
    },
    "id": "8mmTdeKJnCvw",
    "colab_type": "code",
    "colab": {
     "base_uri": "https://localhost:8080/",
     "height": 1000
    },
    "outputId": "6b194eb9-c8b2-431a-9a49-43aa4ba79398"
   },
   "source": [
    "[learner.dls.tfms[-1][-1].decode(preds[:,i,:].argmax(dim=-1)) for i in range(preds.size(1))]"
   ],
   "execution_count": null,
   "outputs": [
    {
     "output_type": "execute_result",
     "data": {
      "text/plain": [
       "['LC47p',\n",
       " 'bnWsU',\n",
       " 'qScfn',\n",
       " 'vWQO',\n",
       " 'o4ltD',\n",
       " 'AH6Gg',\n",
       " '46mRK',\n",
       " 'pTJ3P',\n",
       " 'OVTZN',\n",
       " '6ZLPn',\n",
       " 'GeQQf',\n",
       " 'eJVU9',\n",
       " 'oVnR',\n",
       " 'b232D',\n",
       " 'yLl8I',\n",
       " '6Nqul',\n",
       " 'l6VKZ',\n",
       " 'cSHMU',\n",
       " 'Rpq3u',\n",
       " '10Plo',\n",
       " '0bziv',\n",
       " 'WRRQh',\n",
       " 'xuwsa',\n",
       " 'cRWh',\n",
       " 'GOC9q',\n",
       " 'jZsBx',\n",
       " 'KvDW1',\n",
       " 'Xw0jF',\n",
       " 'w5jeT',\n",
       " 'YWxi4',\n",
       " 'X12sn',\n",
       " 'vBGLc',\n",
       " 'qhxQP',\n",
       " 'YJE4U',\n",
       " 'ZDzAI',\n",
       " 'h4rXq',\n",
       " 'pvJD',\n",
       " 'fI4r2',\n",
       " 'UaeXd',\n",
       " 'KYRVW',\n",
       " 'hqYzt',\n",
       " 'HYcL9',\n",
       " 'pYnlc',\n",
       " 'oiamg',\n",
       " 'h0Cej',\n",
       " 'lqwn',\n",
       " '6NJBr',\n",
       " 'PTPZh',\n",
       " 'WekED',\n",
       " 'cLuNH',\n",
       " 'WiZE3',\n",
       " 'KYWfJ',\n",
       " 'hC0xS',\n",
       " 'FIqoG',\n",
       " 'BrcRT',\n",
       " 'HQsXT',\n",
       " 'TopXU',\n",
       " 'HNSOL',\n",
       " 'sJfo',\n",
       " '6H9q0',\n",
       " 'KyQZ2',\n",
       " 'dySiU',\n",
       " 'TepVt',\n",
       " 'eqmYG',\n",
       " 'vYyhu',\n",
       " 'hrNGD',\n",
       " 'lSm4A',\n",
       " 'iCXFZ',\n",
       " 'AgUp5',\n",
       " '4NPAt',\n",
       " '97YL4',\n",
       " 'vgbFe',\n",
       " 'eiDn4',\n",
       " '2DPxc',\n",
       " '5voq1',\n",
       " 'I3tu',\n",
       " 'VBvMt',\n",
       " 'OuDQm',\n",
       " 'wWwbb',\n",
       " 'eBidf',\n",
       " 'u2cOh',\n",
       " 'htrgM',\n",
       " 'omVxk',\n",
       " 'dEziM',\n",
       " 'BaOEN',\n",
       " 'epljH',\n",
       " 'UOM53',\n",
       " 'a2x7O',\n",
       " 'Dw8Rj',\n",
       " 'IaLJo',\n",
       " '0LGjX',\n",
       " '3Qkfy',\n",
       " '1HoMS',\n",
       " 'a6f7B',\n",
       " 'SR0am',\n",
       " 'VGIEF',\n",
       " 'RvwEQ',\n",
       " 'KGcOe',\n",
       " 'l6CSH',\n",
       " 'ZvGmY',\n",
       " 'NIiKY',\n",
       " 'Sj2HD',\n",
       " '1nrjS',\n",
       " 'dHIRV',\n",
       " '8t7Ap',\n",
       " 'ot815',\n",
       " 'S0tL',\n",
       " 'mt1FN',\n",
       " 'fnZTi',\n",
       " 'RWOnh',\n",
       " 'vf6I7',\n",
       " 'Lc1bC',\n",
       " 'mE8s6',\n",
       " 'lU1Pn',\n",
       " 'kifyn',\n",
       " 'UypAS',\n",
       " 'jfFUH',\n",
       " '0pRxn',\n",
       " 'YufO9',\n",
       " 'YxGYQ',\n",
       " 'tFOwd',\n",
       " '4meYX',\n",
       " 'BB8gn',\n",
       " 'GYQ4w',\n",
       " 'KMscJ',\n",
       " 'eYS3V',\n",
       " 'MvzF4',\n",
       " 'ukyrh',\n",
       " '4Ytqt',\n",
       " '3BsS6',\n",
       " 'IrVcK',\n",
       " 'nXzKw',\n",
       " 'bFInP',\n",
       " 'c0HbC',\n",
       " 'Sluz1',\n",
       " 'oIe2',\n",
       " '4aZG3',\n",
       " 'je9LF',\n",
       " 'YzS6M',\n",
       " 'gVHBP',\n",
       " 'gXZ4Z',\n",
       " 's6Qir',\n",
       " 'xEP0m',\n",
       " 'JiLlE',\n",
       " 'I0v6r',\n",
       " 'bVlDW',\n",
       " '2UuZv',\n",
       " 'IaKjF',\n",
       " '24ClS',\n",
       " 'CGDY4',\n",
       " '3Po83',\n",
       " 'DsOIP',\n",
       " 'YFys4',\n",
       " '7Q2su',\n",
       " '8TfoJ',\n",
       " '8AYPn',\n",
       " 'dc1E6',\n",
       " 'Ln9eL',\n",
       " 'qUyOy',\n",
       " 'bljHC',\n",
       " 'A3X1Q',\n",
       " 'UFxoN',\n",
       " 'ClTRi',\n",
       " '2H3d1',\n",
       " 'wL3Kg',\n",
       " 'rHWvn',\n",
       " '62XNl',\n",
       " 'rXjfO',\n",
       " 'uDwAx',\n",
       " 'C3fAE',\n",
       " 'Tsp8o',\n",
       " 'I4Z3F',\n",
       " 'WRK37',\n",
       " 'oX6HF',\n",
       " '3Lhc9',\n",
       " '9bz7n',\n",
       " 'KWovW',\n",
       " 'XVLCw',\n",
       " 'n4Xmj',\n",
       " 'heGAQ',\n",
       " 'Xcnx8',\n",
       " 'U3Rfa',\n",
       " 'CetZ3',\n",
       " 'GC1xr',\n",
       " 'pO52a',\n",
       " 'adruF',\n",
       " 'lfkJq',\n",
       " 'VlERn',\n",
       " 'WjYwM',\n",
       " 'Kn4HZ',\n",
       " '7h3xp',\n",
       " 'jTlqQ',\n",
       " '8Iuog',\n",
       " 'pvKs7',\n",
       " 'JZpmL',\n",
       " 'TSwZ9',\n",
       " 'BqWuc',\n",
       " 'qBPt6',\n",
       " 'tAg1E',\n",
       " 'evDvN',\n",
       " 'Gmfwj',\n",
       " 'AB9ov',\n",
       " '4SMCN',\n",
       " '2k6pV',\n",
       " 'WMcw7',\n",
       " 'pIQf6',\n",
       " 'yReUh',\n",
       " 'KStvX',\n",
       " 'XuGGs',\n",
       " 'P4UsC',\n",
       " 'TSzEr',\n",
       " 'N0Lm8',\n",
       " 'ki4ht',\n",
       " 'dOa8N',\n",
       " '4cEXt',\n",
       " 'la5Nq',\n",
       " 'Oy8xy',\n",
       " 'qToPJ',\n",
       " 'T84b3',\n",
       " '5gcSE',\n",
       " 'czb3y',\n",
       " 'PRtzA',\n",
       " 'mbMQx',\n",
       " '7z7k',\n",
       " 'scB6H',\n",
       " 'HVeso',\n",
       " 'rizlV',\n",
       " 'bydd6',\n",
       " 'pE9T8',\n",
       " 'sZQPw',\n",
       " 'DJ8FK',\n",
       " 'GWOIf',\n",
       " 'CMm2i',\n",
       " 'Bnj9Z',\n",
       " 'iqRHf',\n",
       " 'iGfH',\n",
       " '5IRov',\n",
       " 'cJQMq',\n",
       " 'OofRq',\n",
       " 'ObS3C',\n",
       " 'eq95G',\n",
       " 'MUYVL',\n",
       " '5reKp',\n",
       " 'vyfcF',\n",
       " '8RCMH',\n",
       " 'cXzSJ',\n",
       " '3pVPj',\n",
       " 'qYlcw',\n",
       " 'fh85J',\n",
       " 'wLGnY',\n",
       " '6PEN2',\n",
       " 'oUz1W',\n",
       " 'qU9fi',\n",
       " 'c4azA',\n",
       " 'lzjjk',\n",
       " 'gJfZ5',\n",
       " 'Df7gU',\n",
       " '9MnlQ',\n",
       " 'zN9lo',\n",
       " 'FtjOY',\n",
       " 'CnRrJ',\n",
       " '0f38q',\n",
       " 'tiROY',\n",
       " 'ksGwc',\n",
       " 'ejYgl',\n",
       " 'LyCPt',\n",
       " 'bDFf2',\n",
       " 'lPil1',\n",
       " '93I8A',\n",
       " '7LAOh',\n",
       " '2QKC3',\n",
       " 'xkVot',\n",
       " 'qBxBH',\n",
       " 'QzBXZ',\n",
       " 'qtHb2',\n",
       " 'Yfay',\n",
       " 'L13rH',\n",
       " 'h9qAa',\n",
       " '76lQ2',\n",
       " 'k0ZE8',\n",
       " 'pJpGFT',\n",
       " 'meqve',\n",
       " '0Q4Rd',\n",
       " 'IKwDg',\n",
       " 'PcbwT',\n",
       " '2EDbF',\n",
       " 'h6fBg',\n",
       " '6nDoN',\n",
       " '7ayTG',\n",
       " '2gTdt',\n",
       " 'gU5Du',\n",
       " 'WXKG9',\n",
       " 'mrMXN',\n",
       " 'QsrE2',\n",
       " 'd3cU4',\n",
       " 'yFlMq',\n",
       " 'wlMut',\n",
       " '6k9H5',\n",
       " 'SpK3x',\n",
       " 'qAsao',\n",
       " 'mL6Tb',\n",
       " '1av5K',\n",
       " 'wQcrk',\n",
       " 'Ky1q8',\n",
       " 't1Qjr',\n",
       " 'esV0k',\n",
       " 'N4Inj',\n",
       " 'Y9MiZ',\n",
       " 'Q0Xq3',\n",
       " 'n9psW',\n",
       " 'l24sn',\n",
       " 'uAwKE',\n",
       " 'CjyuK',\n",
       " 'YTdhm',\n",
       " 'e3i2A',\n",
       " '9jhfS',\n",
       " 'C4L46',\n",
       " 'cejip',\n",
       " 'JPqDI',\n",
       " 'HWHHs',\n",
       " '8RLN9',\n",
       " 'PjDVe',\n",
       " 'Bl88c',\n",
       " 'Cp2lH',\n",
       " 'hrHvl',\n",
       " 'ZU7VV',\n",
       " 'IFXxy',\n",
       " 'Ujerm',\n",
       " 'hf673',\n",
       " 'nT6NW',\n",
       " 'C7UXH',\n",
       " 'QLQSm',\n",
       " 'j55eq',\n",
       " 'D6ydb',\n",
       " 'v0zkF',\n",
       " 'nKXH',\n",
       " 'I3jQp',\n",
       " 'yB5sR',\n",
       " 'FkMFu',\n",
       " '7DGTm',\n",
       " 'NxSWR',\n",
       " 'vtnUO',\n",
       " 'clWtg',\n",
       " 'sMPxU',\n",
       " 'yY7je',\n",
       " 'YKQrL',\n",
       " 'sLqci',\n",
       " 'qTDJr',\n",
       " 'tg9bz',\n",
       " '9abIc',\n",
       " 'uOrbk',\n",
       " 'd8d5L',\n",
       " '0KZfe',\n",
       " 'HCUWI',\n",
       " 'h80Mt',\n",
       " 'IMSUi',\n",
       " '1NdKs',\n",
       " 'sKViN',\n",
       " 'kFskY',\n",
       " 'z4GOm',\n",
       " 'sLe4',\n",
       " 'UskCb',\n",
       " 'gHxxb',\n",
       " 'Nrje5',\n",
       " '1PNDw',\n",
       " 'eEApr',\n",
       " 'QYofT',\n",
       " 'pKVRo',\n",
       " 'iRCEt',\n",
       " 'v4WI1',\n",
       " 'BmBhI',\n",
       " 'Vh1Vg',\n",
       " 'p7s7M',\n",
       " 'lJtZa',\n",
       " 'xaBZr',\n",
       " 'EDwKM',\n",
       " 'VcS8f',\n",
       " 'vd9jk',\n",
       " '2jnRz',\n",
       " 'XvCwb',\n",
       " 'Pq2n5',\n",
       " 'xBXos',\n",
       " 'uZnHf',\n",
       " 'kohUZ',\n",
       " 'bGvhu',\n",
       " 'CKezq',\n",
       " 'usCRq',\n",
       " '9fSdB',\n",
       " '86ttn',\n",
       " 'wO9q1',\n",
       " '0GwM9',\n",
       " 'op2Xx',\n",
       " 'ewoF4',\n",
       " 'T7Gil',\n",
       " '1W8Q2',\n",
       " '4FNk8',\n",
       " 'cUEz6',\n",
       " '6DQMd',\n",
       " 'TtAyj',\n",
       " 'g324G',\n",
       " 'LHR8U',\n",
       " 'PcaNf',\n",
       " 'NBzcS',\n",
       " '6h4Gx',\n",
       " '2FNRA',\n",
       " 'bAXOb',\n",
       " 'X8MQ',\n",
       " 'kfL5X',\n",
       " 'byEF5',\n",
       " 'IhRlu',\n",
       " 'u5pFJ',\n",
       " 'as4Pl',\n",
       " 'dAeUC',\n",
       " 'arZLB',\n",
       " 'jTGgG',\n",
       " 'V2Kqx',\n",
       " 'F2lbf',\n",
       " '8b6yg',\n",
       " 'En0G5',\n",
       " 'v8gMQ',\n",
       " '67Mtf',\n",
       " 'VMZ4e',\n",
       " 'q4zdc',\n",
       " 'JBSUJ',\n",
       " 'DuI42',\n",
       " 'ondI',\n",
       " 'e81G5',\n",
       " 'xGwZM',\n",
       " 'Phg1l',\n",
       " 'Qjkzk',\n",
       " 'YL7yy',\n",
       " 'VHGRk',\n",
       " 'iNnS',\n",
       " '39TM8',\n",
       " 'hq9Ji',\n",
       " 'KLTst',\n",
       " '07ywA',\n",
       " 'L5hGs',\n",
       " 'UToMU',\n",
       " 'OTon',\n",
       " 'CswE',\n",
       " 'hnrXN',\n",
       " 'hzxjP',\n",
       " 'q41CN',\n",
       " 'gB41p',\n",
       " 'UmaZA',\n",
       " 'JR9Y',\n",
       " 'KZdun',\n",
       " 'fU1qR',\n",
       " '38Q5',\n",
       " 'djkqU',\n",
       " 'GptPm',\n",
       " 'QJoQr',\n",
       " 'Cve9x',\n",
       " 'n4oFl',\n",
       " 'RwPse',\n",
       " '73rAp',\n",
       " 'H2Eb2',\n",
       " 'Svpkn',\n",
       " 'qGdw1',\n",
       " 'B4tCM',\n",
       " 'D5lNr',\n",
       " 'jRZnB',\n",
       " 'mTlgD',\n",
       " '4dHAl',\n",
       " 'vIbXU',\n",
       " '68DiN',\n",
       " 'hbCZO',\n",
       " 'jSkdI',\n",
       " '5yAOD',\n",
       " 'PTSze',\n",
       " 'qxJv3',\n",
       " 'E4ySY',\n",
       " 'XyFRG',\n",
       " 'x1dyH',\n",
       " 'KsudX',\n",
       " 'YCYjr',\n",
       " 'sCSdS',\n",
       " 'sc4Ls',\n",
       " '0PkmB',\n",
       " 'QRCTP',\n",
       " 'kpZrk',\n",
       " 'pyCbL',\n",
       " '8f4d',\n",
       " 'WKQA',\n",
       " 'e1Qtw',\n",
       " 'jpzIb',\n",
       " 'C81P8',\n",
       " '9GCB7',\n",
       " '8pOYa',\n",
       " 'Ns0da',\n",
       " 'lVGUk',\n",
       " 'Inigw',\n",
       " 'eE7GB',\n",
       " 'AJ0jQ',\n",
       " 'xZ79H',\n",
       " 'ZoiTu',\n",
       " 'svOT9',\n",
       " '4FbRW',\n",
       " 'chMoN']"
      ]
     },
     "metadata": {
      "tags": []
     },
     "execution_count": 104
    }
   ]
  },
  {
   "cell_type": "markdown",
   "metadata": {
    "pycharm": {
     "name": "#%% md\n"
    },
    "id": "dmG1m_EPnCvx",
    "colab_type": "text"
   },
   "source": [
    "### Test with transparent background image"
   ]
  },
  {
   "cell_type": "code",
   "metadata": {
    "pycharm": {
     "name": "#%%\n"
    },
    "id": "5i2C4kJcnCv3",
    "colab_type": "code",
    "colab": {}
   },
   "source": [
    "test_dl = learner.dls.test_dl(L(['33356.png', '05226.png', '98348.png', '2b827.png']))\n",
    "# x = test_dl.one_batch()[0]"
   ],
   "execution_count": null,
   "outputs": []
  },
  {
   "cell_type": "code",
   "metadata": {
    "pycharm": {
     "name": "#%%\n"
    },
    "id": "UDWYDmGunCv6",
    "colab_type": "code",
    "colab": {
     "base_uri": "https://localhost:8080/",
     "height": 52
    },
    "outputId": "5a406f51-0acc-4663-e6d8-ca173d5e147b"
   },
   "source": [
    "preds = learner.get_preds(dl=test_dl, reorder=False, concat_dim=1)[0]\n",
    "preds.size()"
   ],
   "execution_count": null,
   "outputs": [
    {
     "output_type": "display_data",
     "data": {
      "text/html": [
       ""
      ],
      "text/plain": [
       "<IPython.core.display.HTML object>"
      ]
     },
     "metadata": {
      "tags": []
     }
    },
    {
     "output_type": "stream",
     "text": [
      "/usr/local/lib/python3.6/dist-packages/ipykernel_launcher.py:22: RuntimeWarning: invalid value encountered in true_divide\n"
     ],
     "name": "stderr"
    },
    {
     "output_type": "execute_result",
     "data": {
      "text/plain": [
       "torch.Size([9, 4, 37])"
      ]
     },
     "metadata": {
      "tags": []
     },
     "execution_count": 78
    }
   ]
  },
  {
   "cell_type": "code",
   "metadata": {
    "pycharm": {
     "name": "#%%\n"
    },
    "id": "A-exF5fznCv8",
    "colab_type": "code",
    "colab": {
     "base_uri": "https://localhost:8080/",
     "height": 35
    },
    "outputId": "fef49cf9-f170-43fc-b771-84a359b5e38c"
   },
   "source": [
    "[learner.dls.tfms[-1][-1].decode(preds[:,i,:].argmax(dim=-1)) for i in range(preds.size(1))]"
   ],
   "execution_count": null,
   "outputs": [
    {
     "output_type": "execute_result",
     "data": {
      "text/plain": [
       "['33356', '05226', '98348', 'y3rxxz']"
      ]
     },
     "metadata": {
      "tags": []
     },
     "execution_count": 79
    }
   ]
  },
  {
   "cell_type": "code",
   "metadata": {
    "id": "hzpzKDpaHuOG",
    "colab_type": "code",
    "colab": {}
   },
   "source": [
    ""
   ],
   "execution_count": null,
   "outputs": []
  },
  {
   "cell_type": "markdown",
   "metadata": {
    "id": "Uubdlzf7P71Z",
    "colab_type": "text"
   },
   "source": [
    "# Test resize"
   ]
  },
  {
   "cell_type": "code",
   "metadata": {
    "id": "OBVpW3TDP95Q",
    "colab_type": "code",
    "colab": {}
   },
   "source": [
    "rs = Resize((32, 160), pad_mode=PadMode.Border, method=ResizeMethod.Pad)"
   ],
   "execution_count": null,
   "outputs": []
  },
  {
   "cell_type": "code",
   "metadata": {
    "id": "BhwVEOQjQTsR",
    "colab_type": "code",
    "colab": {
     "base_uri": "https://localhost:8080/",
     "height": 78
    },
    "outputId": "b5e1c812-d6ec-46a2-d60d-aaebf007c11a"
   },
   "source": [
    "img = PILImage.create('98348.png')\n",
    "img"
   ],
   "execution_count": null,
   "outputs": [
    {
     "output_type": "execute_result",
     "data": {
      "image/png": "[encoded data removed]",
      "text/plain": [
       "PILImage mode=RGB size=200x61"
      ]
     },
     "metadata": {
      "tags": []
     },
     "execution_count": 22
    }
   ]
  },
  {
   "cell_type": "code",
   "metadata": {
    "id": "nr48EAVCQbAZ",
    "colab_type": "code",
    "colab": {
     "base_uri": "https://localhost:8080/",
     "height": 49
    },
    "outputId": "fb65a301-432c-4292-ac73-0e04d188323d"
   },
   "source": [
    "rs(img)"
   ],
   "execution_count": null,
   "outputs": [
    {
     "output_type": "execute_result",
     "data": {
      "image/png": "[encoded data removed]",
      "text/plain": [
       "PILImage mode=RGB size=160x32"
      ]
     },
     "metadata": {
      "tags": []
     },
     "execution_count": 23
    }
   ]
  },
  {
   "cell_type": "code",
   "metadata": {
    "id": "Bf0MLxz-QlpX",
    "colab_type": "code",
    "colab": {}
   },
   "source": [
    ""
   ],
   "execution_count": null,
   "outputs": []
  }
 ]
}