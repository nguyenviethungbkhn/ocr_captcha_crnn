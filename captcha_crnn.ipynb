{
 "cells": [
  {
   "cell_type": "code",
   "execution_count": 2,
   "metadata": {},
   "outputs": [],
   "source": [
    "import torch\n",
    "import torch.nn as nn\n",
    "from fastai.vision.all import (\n",
    "    L, Path, TensorCategory, Category,\n",
    "    Transform, Pipeline, ToTensor, Normalize, Resize, IntToFloatTensor,\n",
    "    PILImage, PILImageBW,\n",
    "    Categorize,\n",
    "    RandomSplitter,\n",
    "    Datasets,\n",
    "    Learner,\n",
    "    get_image_files,\n",
    "    show_image,\n",
    "    Metric,\n",
    "    TensorImage,\n",
    "    load_learner,\n",
    ")\n",
    "import random\n",
    "import numpy as np\n",
    "import re"
   ]
  },
  {
   "cell_type": "markdown",
   "metadata": {
    "pycharm": {
     "name": "#%% md\n"
    }
   },
   "source": [
    "# Seed all"
   ]
  },
  {
   "cell_type": "code",
   "execution_count": 4,
   "metadata": {
    "pycharm": {
     "name": "#%%\n"
    }
   },
   "outputs": [],
   "source": [
    "def seed_all(seed_value):\n",
    "    random.seed(seed_value)\n",
    "    np.random.seed(seed_value)\n",
    "    torch.manual_seed(seed_value)\n",
    "\n",
    "    if torch.cuda.is_available():\n",
    "        torch.cuda.manual_seed(seed_value)\n",
    "        torch.cuda.manual_seed_all(seed_value)\n",
    "        torch.backends.cudnn.deterministic = True\n",
    "        torch.backends.cudnn.benchmark = False"
   ]
  },
  {
   "cell_type": "markdown",
   "metadata": {
    "pycharm": {
     "name": "#%% md\n"
    }
   },
   "source": [
    "# Load data"
   ]
  },
  {
   "cell_type": "code",
   "execution_count": 5,
   "metadata": {
    "pycharm": {
     "name": "#%%\n"
    }
   },
   "outputs": [],
   "source": [
    "def label_func(path: Path):\n",
    "    \"\"\"\n",
    "    Read label from file name\n",
    "    :param path: path of file\n",
    "    :return: label\n",
    "    \"\"\"\n",
    "    return list(path.name.split('.')[0])"
   ]
  },
  {
   "cell_type": "code",
   "execution_count": 6,
   "metadata": {
    "pycharm": {
     "name": "#%%\n"
    }
   },
   "outputs": [],
   "source": [
    "class CategorizeList(Categorize):\n",
    "    def __init__(self, vocab=None, add_na=False, blank='-'):\n",
    "        super(CategorizeList, self).__init__(vocab=vocab, add_na=add_na, sort=False,)\n",
    "        self.blank = blank\n",
    "\n",
    "    @property\n",
    "    def blank_idx(self):\n",
    "        return self.vocab.o2i[self.blank]\n",
    "\n",
    "    @property\n",
    "    def n_classes(self):\n",
    "        return len(self.vocab.items)\n",
    "\n",
    "    def setups(self, dsets):\n",
    "        dsets = sum(dsets, L(self.blank))\n",
    "        super(CategorizeList, self).setups(dsets=dsets)\n",
    "\n",
    "    def encodes(self, os):\n",
    "        return TensorCategory([self.vocab.o2i[o] for o in os])\n",
    "\n",
    "    def decodes(self, os, raw=False):\n",
    "        s = ''.join([self.vocab[o] for o in os])\n",
    "        if not raw:\n",
    "            s = re.sub(self.blank, '', re.sub(r'(\\w)\\1+', r'\\1', s))\n",
    "\n",
    "        return Category(s)\n"
   ]
  },
  {
   "cell_type": "code",
   "execution_count": 7,
   "metadata": {
    "pycharm": {
     "name": "#%%\n"
    }
   },
   "outputs": [],
   "source": [
    "class BeforeBatchTransform(Transform):\n",
    "    \"\"\"\n",
    "    Resize image before create batch\n",
    "    \"\"\"\n",
    "    def __init__(self, height=32, width=100, keep_ratio=False, min_ratio=1.):\n",
    "        super(BeforeBatchTransform, self).__init__()\n",
    "        self.height, self.width = height, width\n",
    "        self.keep_ratio, self.min_ratio = keep_ratio, min_ratio\n",
    "\n",
    "    def encodes(self, items):\n",
    "        images, *labels = zip(*items)\n",
    "        \n",
    "        height, width = self.height, self.width\n",
    "\n",
    "        if self.keep_ratio:\n",
    "            max_ratio = self.min_ratio\n",
    "            for image in images:\n",
    "                w, h = image.size\n",
    "                max_ratio = max(max_ratio, w / h)\n",
    "            width = int(np.floor(height * max_ratio))\n",
    "\n",
    "        rs_tfm = Resize(size=(height, width))\n",
    "        images = [rs_tfm(image) for image in images]\n",
    "        return zip(images, *labels)"
   ]
  },
  {
   "cell_type": "code",
   "execution_count": 8,
   "metadata": {
    "pycharm": {
     "name": "#%%\n"
    }
   },
   "outputs": [],
   "source": [
    "class CreateBatchTransform(Transform):\n",
    "    \"\"\"\n",
    "    Create batch\n",
    "    \"\"\"\n",
    "    def __init__(self):\n",
    "        super(CreateBatchTransform, self).__init__()\n",
    "        self.pipeline = Pipeline(funcs=[ToTensor,])\n",
    "\n",
    "    def encodes(self, items):\n",
    "        images, *labels = zip(*items)\n",
    "\n",
    "        # process images\n",
    "        images = self.pipeline(images)\n",
    "        xs = TensorImage(torch.stack(images, dim=0))\n",
    "\n",
    "        # process labels\n",
    "        if len(labels) > 0:\n",
    "            ys = labels[0]\n",
    "            y_lengths = torch.LongTensor([y.size(0) for y in ys])\n",
    "            ys = torch.cat(ys, dim=0)\n",
    "            return xs, (ys, y_lengths)\n",
    "        return xs,"
   ]
  },
  {
   "cell_type": "markdown",
   "metadata": {
    "pycharm": {
     "name": "#%% md\n"
    }
   },
   "source": [
    "## Test load data"
   ]
  },
  {
   "cell_type": "code",
   "execution_count": 110,
   "metadata": {
    "pycharm": {
     "name": "#%%\n"
    }
   },
   "outputs": [],
   "source": [
    "# data_path = Path('data/images')\n",
    "data_path = Path('data/kaggle_data/samples')"
   ]
  },
  {
   "cell_type": "code",
   "execution_count": 111,
   "metadata": {
    "pycharm": {
     "name": "#%%\n"
    }
   },
   "outputs": [],
   "source": [
    "f_names = get_image_files(data_path)"
   ]
  },
  {
   "cell_type": "code",
   "execution_count": 112,
   "metadata": {
    "pycharm": {
     "name": "#%%\n"
    }
   },
   "outputs": [],
   "source": [
    "item_tfms = [PILImage.create, ]\n",
    "y_tfms = [label_func, CategorizeList(add_na=True),]\n",
    "\n",
    "ds = Datasets(\n",
    "    items=f_names,\n",
    "    tfms=[\n",
    "        item_tfms,\n",
    "        y_tfms,\n",
    "    ],\n",
    "    n_inp=1,\n",
    ")"
   ]
  },
  {
   "cell_type": "code",
   "execution_count": 113,
   "metadata": {
    "pycharm": {
     "name": "#%%\n"
    }
   },
   "outputs": [
    {
     "data": {
      "text/plain": [
       "<AxesSubplot:title={'center':'8n34n'}>"
      ]
     },
     "execution_count": 113,
     "metadata": {},
     "output_type": "execute_result"
    },
    {
     "data": {
      "image/png": "[encoded data removed]",
      "text/plain": [
       "<Figure size 72x360 with 1 Axes>"
      ]
     },
     "metadata": {
      "needs_background": "light"
     },
     "output_type": "display_data"
    }
   ],
   "source": [
    "ds.show(ds[0])"
   ]
  },
  {
   "cell_type": "code",
   "execution_count": 114,
   "metadata": {
    "pycharm": {
     "name": "#%%\n"
    }
   },
   "outputs": [],
   "source": [
    "x, y = ds[0]"
   ]
  },
  {
   "cell_type": "code",
   "execution_count": 115,
   "metadata": {
    "pycharm": {
     "name": "#%%\n"
    }
   },
   "outputs": [
    {
     "data": {
      "text/plain": [
       "(PILImage mode=RGB size=200x50, TensorCategory([2, 3, 4, 5, 3]))"
      ]
     },
     "execution_count": 115,
     "metadata": {},
     "output_type": "execute_result"
    }
   ],
   "source": [
    "x, y"
   ]
  },
  {
   "cell_type": "code",
   "execution_count": 116,
   "metadata": {
    "pycharm": {
     "name": "#%%\n"
    }
   },
   "outputs": [],
   "source": [
    "dl = ds.dataloaders(\n",
    "    bs=8,\n",
    "    before_batch=BeforeBatchTransform(keep_ratio=True),\n",
    "    create_batch=CreateBatchTransform(),\n",
    "    after_batch=[\n",
    "        IntToFloatTensor(), \n",
    "        Normalize.from_stats([0.5] * 3, [0.5] * 3),\n",
    "    ]\n",
    ")"
   ]
  },
  {
   "cell_type": "code",
   "execution_count": 117,
   "metadata": {
    "pycharm": {
     "name": "#%%\n"
    }
   },
   "outputs": [],
   "source": [
    "x, y = dl.one_batch()"
   ]
  },
  {
   "cell_type": "code",
   "execution_count": 118,
   "metadata": {
    "pycharm": {
     "name": "#%%\n"
    }
   },
   "outputs": [
    {
     "data": {
      "text/plain": [
       "torch.Size([8, 3, 32, 128])"
      ]
     },
     "execution_count": 118,
     "metadata": {},
     "output_type": "execute_result"
    }
   ],
   "source": [
    "x.size()"
   ]
  },
  {
   "cell_type": "code",
   "execution_count": 119,
   "metadata": {
    "pycharm": {
     "name": "#%%\n"
    }
   },
   "outputs": [
    {
     "data": {
      "text/plain": [
       "(TensorCategory([11, 17,  2, 11,  3,  4,  5, 16, 18,  3,  5, 18, 14, 15,  2,  9,  6,  6,\n",
       "         13, 10,  8, 20,  3, 15,  5, 13, 10,  4, 18,  6, 16, 11,  6, 16,  8,  2,\n",
       "          2, 13, 10,  6], device='cuda:0'),\n",
       " TensorCategory([5, 5, 5, 5, 5, 5, 5, 5], device='cuda:0'))"
      ]
     },
     "execution_count": 119,
     "metadata": {},
     "output_type": "execute_result"
    }
   ],
   "source": [
    "y[0], y[1]"
   ]
  },
  {
   "cell_type": "code",
   "execution_count": 122,
   "metadata": {},
   "outputs": [],
   "source": [
    "test_dl = dl.test_dl([Path('2b827.png')], with_labels=False)"
   ]
  },
  {
   "cell_type": "code",
   "execution_count": 123,
   "metadata": {},
   "outputs": [
    {
     "data": {
      "text/plain": [
       "(TensorImage([[[[0.5059, 0.5059, 0.5137,  ..., 0.9608, 0.9686, 0.9686],\n",
       "           [0.5059, 0.5059, 0.5137,  ..., 0.9608, 0.9686, 0.9686],\n",
       "           [0.5059, 0.5059, 0.5137,  ..., 0.9608, 0.9686, 0.9686],\n",
       "           ...,\n",
       "           [0.5294, 0.5294, 0.5373,  ..., 0.9843, 0.9922, 0.9922],\n",
       "           [0.5294, 0.5294, 0.5373,  ..., 0.9843, 0.9922, 0.9922],\n",
       "           [0.5294, 0.5294, 0.5373,  ..., 0.9843, 0.9922, 0.9922]],\n",
       " \n",
       "          [[0.5059, 0.5059, 0.5137,  ..., 0.9608, 0.9686, 0.9686],\n",
       "           [0.5059, 0.5059, 0.5137,  ..., 0.9608, 0.9686, 0.9686],\n",
       "           [0.5059, 0.5059, 0.5137,  ..., 0.9608, 0.9686, 0.9686],\n",
       "           ...,\n",
       "           [0.5294, 0.5294, 0.5373,  ..., 0.9843, 0.9922, 0.9922],\n",
       "           [0.5294, 0.5294, 0.5373,  ..., 0.9843, 0.9922, 0.9922],\n",
       "           [0.5294, 0.5294, 0.5373,  ..., 0.9843, 0.9922, 0.9922]],\n",
       " \n",
       "          [[0.5059, 0.5059, 0.5137,  ..., 0.9608, 0.9686, 0.9686],\n",
       "           [0.5059, 0.5059, 0.5137,  ..., 0.9608, 0.9686, 0.9686],\n",
       "           [0.5059, 0.5059, 0.5137,  ..., 0.9608, 0.9686, 0.9686],\n",
       "           ...,\n",
       "           [0.5294, 0.5294, 0.5373,  ..., 0.9843, 0.9922, 0.9922],\n",
       "           [0.5294, 0.5294, 0.5373,  ..., 0.9843, 0.9922, 0.9922],\n",
       "           [0.5294, 0.5294, 0.5373,  ..., 0.9843, 0.9922, 0.9922]]]],\n",
       "        device='cuda:0'),)"
      ]
     },
     "execution_count": 123,
     "metadata": {},
     "output_type": "execute_result"
    }
   ],
   "source": [
    "test_dl.one_batch()"
   ]
  },
  {
   "cell_type": "markdown",
   "metadata": {
    "pycharm": {
     "name": "#%% md\n"
    }
   },
   "source": [
    "# Model"
   ]
  },
  {
   "cell_type": "markdown",
   "metadata": {
    "pycharm": {
     "name": "#%% md\n"
    }
   },
   "source": [
    "## CNN model"
   ]
  },
  {
   "cell_type": "code",
   "execution_count": 9,
   "metadata": {
    "pycharm": {
     "name": "#%%\n"
    }
   },
   "outputs": [],
   "source": [
    "def conv_block(in_c, out_c, ks, stride, p, bn=False, leaky_relu=False):\n",
    "    layers = list()\n",
    "    layers.append(nn.Conv2d(\n",
    "        in_channels=in_c,\n",
    "        out_channels=out_c,\n",
    "        kernel_size=ks,\n",
    "        stride=stride,\n",
    "        padding=p,\n",
    "    ))\n",
    "\n",
    "    if bn:\n",
    "        layers.append(nn.BatchNorm2d(num_features=out_c))\n",
    "\n",
    "    if leaky_relu:\n",
    "        layers.append(nn.LeakyReLU(0.2, True))\n",
    "    else:\n",
    "        layers.append(nn.ReLU())\n",
    "    return layers\n",
    "\n",
    "class CNN(nn.Module):\n",
    "    def __init__(self, in_channels=3):\n",
    "        super(CNN, self).__init__()\n",
    "        ks = [3, 3, 3, 3, 3, 3, 2]\n",
    "        s  = [1, 1, 1, 1, 1, 1, 1]\n",
    "        p  = [1, 1, 1, 1, 1, 1, 0]\n",
    "        c  = [64, 128, 256, 256, 512, 512, 512]\n",
    "        mp = [(2, 2), (2, 2), None, ((1, 2), 2), None, ((1, 2), 2), None]\n",
    "        bn = [False, False, False, False, True, True, False]\n",
    "\n",
    "        layers = []\n",
    "        for i in range(len(ks)):\n",
    "            in_c = in_channels if i == 0 else c[i - 1]\n",
    "            layers.extend(conv_block(in_c=in_c, out_c=c[i], ks=ks[i], stride=s[i], p=p[i], bn=bn[i]))\n",
    "            if mp[i] is not None:\n",
    "                kernel_size, stride = mp[i]\n",
    "                layers.append(nn.MaxPool2d(kernel_size=kernel_size, stride=stride))\n",
    "\n",
    "        self.cnn = nn.Sequential(*layers)\n",
    "\n",
    "    def forward(self, x):\n",
    "        out = self.cnn(x)\n",
    "        return out"
   ]
  },
  {
   "cell_type": "markdown",
   "metadata": {
    "pycharm": {
     "name": "#%% md\n"
    }
   },
   "source": [
    "## RNN model"
   ]
  },
  {
   "cell_type": "code",
   "execution_count": 10,
   "metadata": {
    "pycharm": {
     "name": "#%%\n"
    }
   },
   "outputs": [],
   "source": [
    "class RNN(nn.Module):\n",
    "    def __init__(self, input_size, hidden_size, output_size, batch_first=False, bidirectional=True):\n",
    "        super(RNN, self).__init__()\n",
    "        self.input_size, self.hidden_size, self.output_size = input_size, hidden_size, output_size\n",
    "        self.batch_first, self.bidirectional = batch_first, bidirectional\n",
    "\n",
    "        self.lstm = nn.LSTM(\n",
    "            input_size=input_size,\n",
    "            hidden_size=hidden_size,\n",
    "            bidirectional=bidirectional,\n",
    "            batch_first=batch_first,\n",
    "        )\n",
    "\n",
    "        self.h2o = nn.Linear(in_features=hidden_size * 2 if bidirectional else hidden_size, out_features=output_size)\n",
    "\n",
    "    def forward(self, x):\n",
    "        out, _ = self.lstm(x)\n",
    "        return self.h2o(out)"
   ]
  },
  {
   "cell_type": "markdown",
   "metadata": {
    "pycharm": {
     "name": "#%% md\n"
    }
   },
   "source": [
    "## CRNN model = CNN + RNN"
   ]
  },
  {
   "cell_type": "code",
   "execution_count": 11,
   "metadata": {
    "pycharm": {
     "name": "#%%\n"
    }
   },
   "outputs": [],
   "source": [
    "class CRNN(nn.Module):\n",
    "    def __init__(self, in_channels, rnn_hidden_size, n_classes):\n",
    "        super(CRNN, self).__init__()\n",
    "        self.cnn = CNN(in_channels=in_channels)\n",
    "        self.rnn = nn.Sequential(\n",
    "            RNN(\n",
    "                input_size=512,\n",
    "                hidden_size=rnn_hidden_size,\n",
    "                output_size=rnn_hidden_size,\n",
    "                batch_first=False,\n",
    "                bidirectional=True\n",
    "            ),\n",
    "            RNN(\n",
    "                input_size=rnn_hidden_size,\n",
    "                hidden_size=rnn_hidden_size,\n",
    "                output_size=n_classes,\n",
    "                batch_first=False,\n",
    "                bidirectional=True\n",
    "            ),\n",
    "        )\n",
    "\n",
    "    def forward(self, x):\n",
    "        cnn_out = self.cnn(x)\n",
    "        cnn_out = cnn_out.squeeze(2).permute(2, 0, 1)\n",
    "        rnn_out = self.rnn(cnn_out)\n",
    "        return rnn_out"
   ]
  },
  {
   "cell_type": "markdown",
   "metadata": {
    "pycharm": {
     "name": "#%% md\n"
    }
   },
   "source": [
    "## CTC Loss"
   ]
  },
  {
   "cell_type": "code",
   "execution_count": 12,
   "metadata": {
    "pycharm": {
     "name": "#%%\n"
    }
   },
   "outputs": [],
   "source": [
    "class CTCLoss(nn.Module):\n",
    "    def __init__(self, blank=0):\n",
    "        super(CTCLoss, self).__init__()\n",
    "        self.ctc_loss = nn.CTCLoss(blank=blank, zero_infinity=True)\n",
    "\n",
    "    def forward(self, output, target):\n",
    "        T, N, C = output.size()\n",
    "        target, target_lengths = target\n",
    "        output_lengths = torch.full(size=(N,), fill_value=T, dtype=torch.long, device=output.device)\n",
    "        output = output.log_softmax(2)\n",
    "        return self.ctc_loss(output, target, output_lengths, target_lengths)"
   ]
  },
  {
   "cell_type": "markdown",
   "metadata": {
    "pycharm": {
     "name": "#%% md\n"
    }
   },
   "source": [
    "## Accuracy metric"
   ]
  },
  {
   "cell_type": "code",
   "execution_count": 13,
   "metadata": {
    "pycharm": {
     "name": "#%%\n"
    }
   },
   "outputs": [],
   "source": [
    "class AccMetric(Metric):\n",
    "    def __init__(self):\n",
    "        self.y_true, self.y_pred = [], []\n",
    "\n",
    "    def reset(self):\n",
    "        self.y_true, self.y_pred = [], []\n",
    "\n",
    "    def accumulate(self, learn):\n",
    "        label_categorize = learn.dls.tfms[1][-1]\n",
    "        yb_pred = learn.pred.permute(1, 0, 2).argmax(dim=2)\n",
    "        (yb, y_lengths), = learn.yb\n",
    "\n",
    "        yb = torch.split(yb, y_lengths.cpu().tolist())\n",
    "        self.y_true.extend([label_categorize.decode(y, raw=True) for y in yb])\n",
    "\n",
    "        self.y_pred.extend([label_categorize.decode(y) for y in yb_pred])\n",
    "\n",
    "    @property\n",
    "    def value(self):\n",
    "#         print(self.y_pred[:4], self.y_true[:4])\n",
    "        n_correct = (np.array(self.y_pred) == np.array(self.y_true)).sum()\n",
    "        return n_correct / float(len(self.y_true))\n",
    "\n",
    "    @property\n",
    "    def name(self):\n",
    "        return 'accuracy'\n"
   ]
  },
  {
   "cell_type": "markdown",
   "metadata": {
    "pycharm": {
     "name": "#%% md\n"
    }
   },
   "source": [
    "### Test model and loss func"
   ]
  },
  {
   "cell_type": "code",
   "execution_count": 144,
   "metadata": {
    "pycharm": {
     "name": "#%%\n"
    }
   },
   "outputs": [],
   "source": [
    "model = CRNN(in_channels=3, rnn_hidden_size=256, n_classes=ds.tfms[1][-1].n_classes)\n",
    "model = model.cuda()"
   ]
  },
  {
   "cell_type": "code",
   "execution_count": 145,
   "metadata": {
    "pycharm": {
     "name": "#%%\n"
    }
   },
   "outputs": [
    {
     "data": {
      "text/plain": [
       "torch.Size([9, 8, 20])"
      ]
     },
     "execution_count": 145,
     "metadata": {},
     "output_type": "execute_result"
    }
   ],
   "source": [
    "out = model(x)\n",
    "out.size()"
   ]
  },
  {
   "cell_type": "code",
   "execution_count": 101,
   "metadata": {
    "pycharm": {
     "name": "#%%\n"
    }
   },
   "outputs": [],
   "source": [
    "loss_func = CTCLoss(blank=ds.tfms[1][-1].blank_idx)"
   ]
  },
  {
   "cell_type": "code",
   "execution_count": 102,
   "metadata": {
    "pycharm": {
     "name": "#%%\n"
    }
   },
   "outputs": [
    {
     "data": {
      "text/plain": [
       "tensor(6.1383, device='cuda:0', grad_fn=<MeanBackward0>)"
      ]
     },
     "execution_count": 102,
     "metadata": {},
     "output_type": "execute_result"
    }
   ],
   "source": [
    "loss_func(out, y)"
   ]
  },
  {
   "cell_type": "markdown",
   "metadata": {
    "pycharm": {
     "name": "#%% md\n"
    }
   },
   "source": [
    "# Train model"
   ]
  },
  {
   "cell_type": "markdown",
   "metadata": {
    "pycharm": {
     "name": "#%% md\n"
    }
   },
   "source": [
    "## Config"
   ]
  },
  {
   "cell_type": "code",
   "execution_count": 183,
   "metadata": {
    "pycharm": {
     "name": "#%%\n"
    }
   },
   "outputs": [],
   "source": [
    "# data_path = Path('data/images')\n",
    "data_path = Path('data/kaggle_data/samples')\n",
    "bs = 16"
   ]
  },
  {
   "cell_type": "markdown",
   "metadata": {
    "pycharm": {
     "name": "#%% md\n"
    }
   },
   "source": [
    "## Load data"
   ]
  },
  {
   "cell_type": "code",
   "execution_count": 184,
   "metadata": {
    "pycharm": {
     "name": "#%%\n"
    }
   },
   "outputs": [],
   "source": [
    "f_names = get_image_files(data_path)\n",
    "# f_names = f_names[:500]"
   ]
  },
  {
   "cell_type": "code",
   "execution_count": 185,
   "metadata": {
    "pycharm": {
     "name": "#%%\n"
    }
   },
   "outputs": [
    {
     "data": {
      "text/plain": [
       "<AxesSubplot:title={'center':'8n34n'}>"
      ]
     },
     "execution_count": 185,
     "metadata": {},
     "output_type": "execute_result"
    },
    {
     "data": {
      "image/png": "[encoded data removed]",
      "text/plain": [
       "<Figure size 72x360 with 1 Axes>"
      ]
     },
     "metadata": {
      "needs_background": "light"
     },
     "output_type": "display_data"
    }
   ],
   "source": [
    "item_tfms = [PILImage.create, ]\n",
    "y_tfms = [label_func, CategorizeList(add_na=False),]\n",
    "\n",
    "ds = Datasets(\n",
    "    items=f_names,\n",
    "    tfms=[\n",
    "        item_tfms,\n",
    "        y_tfms,\n",
    "    ],\n",
    "    splits=RandomSplitter(valid_pct=0.2, seed=42)(f_names),\n",
    ")\n",
    "ds.show(ds[0])"
   ]
  },
  {
   "cell_type": "code",
   "execution_count": 186,
   "metadata": {
    "pycharm": {
     "name": "#%%\n"
    }
   },
   "outputs": [],
   "source": [
    "dls = ds.dataloaders(\n",
    "    bs=bs,\n",
    "    before_batch=BeforeBatchTransform(keep_ratio=True),\n",
    "    create_batch=CreateBatchTransform(),\n",
    "    after_batch=[IntToFloatTensor, Normalize.from_stats([0.5] * 3, [0.5] * 3)],\n",
    ")"
   ]
  },
  {
   "cell_type": "code",
   "execution_count": 187,
   "metadata": {
    "pycharm": {
     "name": "#%%\n"
    }
   },
   "outputs": [],
   "source": [
    "# dls.one_batch()"
   ]
  },
  {
   "cell_type": "markdown",
   "metadata": {
    "pycharm": {
     "name": "#%% md\n"
    }
   },
   "source": [
    "## Create model"
   ]
  },
  {
   "cell_type": "code",
   "execution_count": 193,
   "metadata": {
    "pycharm": {
     "name": "#%%\n"
    }
   },
   "outputs": [],
   "source": [
    "model = CRNN(in_channels=3, rnn_hidden_size=256, n_classes=ds.tfms[1][-1].n_classes)\n",
    "loss_func = CTCLoss(blank=ds.tfms[1][-1].blank_idx)"
   ]
  },
  {
   "cell_type": "code",
   "execution_count": 194,
   "metadata": {
    "pycharm": {
     "name": "#%%\n"
    }
   },
   "outputs": [
    {
     "data": {
      "text/plain": [
       "(#20) ['-','x','f','n','6','8','5','w','m','4'...]"
      ]
     },
     "execution_count": 194,
     "metadata": {},
     "output_type": "execute_result"
    }
   ],
   "source": [
    "ds.tfms[1][-1].vocab"
   ]
  },
  {
   "cell_type": "markdown",
   "metadata": {
    "pycharm": {
     "name": "#%% md\n"
    }
   },
   "source": [
    "## Create learner"
   ]
  },
  {
   "cell_type": "code",
   "execution_count": 195,
   "metadata": {
    "pycharm": {
     "name": "#%%\n"
    }
   },
   "outputs": [],
   "source": [
    "learner = Learner(\n",
    "    dls=dls,\n",
    "    model=model,\n",
    "    loss_func=loss_func,\n",
    "    metrics=[AccMetric()]\n",
    ")"
   ]
  },
  {
   "cell_type": "markdown",
   "metadata": {
    "pycharm": {
     "name": "#%% md\n"
    }
   },
   "source": [
    "## Training"
   ]
  },
  {
   "cell_type": "code",
   "execution_count": 196,
   "metadata": {
    "pycharm": {
     "name": "#%%\n"
    }
   },
   "outputs": [
    {
     "data": {
      "text/html": [],
      "text/plain": [
       "<IPython.core.display.HTML object>"
      ]
     },
     "metadata": {},
     "output_type": "display_data"
    },
    {
     "data": {
      "text/plain": [
       "SuggestedLRs(lr_min=0.003981071710586548, lr_steep=6.918309736647643e-06)"
      ]
     },
     "execution_count": 196,
     "metadata": {},
     "output_type": "execute_result"
    },
    {
     "data": {
      "image/png": "[encoded data removed]",
      "text/plain": [
       "<Figure size 432x288 with 1 Axes>"
      ]
     },
     "metadata": {
      "needs_background": "light"
     },
     "output_type": "display_data"
    }
   ],
   "source": [
    "# learning rate finder\n",
    "learner.lr_find()"
   ]
  },
  {
   "cell_type": "code",
   "execution_count": null,
   "outputs": [],
   "source": [
    "# fit one cycle\n",
    "learner.fit_one_cycle(30, lr=1e-2)"
   ],
   "metadata": {
    "collapsed": false,
    "pycharm": {
     "name": "#%%\n"
    }
   }
  },
  {
   "cell_type": "code",
   "execution_count": 198,
   "metadata": {
    "pycharm": {
     "name": "#%%\n"
    }
   },
   "outputs": [
    {
     "data": {
      "text/plain": [
       "Path('models/captcha_9393.pth')"
      ]
     },
     "execution_count": 198,
     "metadata": {},
     "output_type": "execute_result"
    }
   ],
   "source": [
    "learner.save('captcha_9393')"
   ]
  },
  {
   "cell_type": "code",
   "execution_count": 199,
   "metadata": {
    "pycharm": {
     "name": "#%%\n"
    }
   },
   "outputs": [],
   "source": [
    "learner.export('captcha_9393.pkl')"
   ]
  },
  {
   "cell_type": "markdown",
   "source": [
    "## Predict\n"
   ],
   "metadata": {
    "collapsed": false,
    "pycharm": {
     "name": "#%% md\n"
    }
   }
  },
  {
   "cell_type": "markdown",
   "source": [
    "### Load model"
   ],
   "metadata": {
    "collapsed": false,
    "pycharm": {
     "name": "#%% md\n"
    }
   }
  },
  {
   "cell_type": "code",
   "execution_count": 14,
   "outputs": [],
   "source": [
    "learner = load_learner('captcha_9393.pkl')"
   ],
   "metadata": {
    "collapsed": false,
    "pycharm": {
     "name": "#%%\n"
    }
   }
  },
  {
   "cell_type": "markdown",
   "source": [
    "### Load test_dl"
   ],
   "metadata": {
    "collapsed": false
   }
  },
  {
   "cell_type": "code",
   "execution_count": 15,
   "metadata": {
    "pycharm": {
     "name": "#%%\n"
    }
   },
   "outputs": [],
   "source": [
    "test_files = L(Path('2b827.png'))\n",
    "# test_files = L(Path('98348.png'))"
   ]
  },
  {
   "cell_type": "code",
   "execution_count": 16,
   "outputs": [],
   "source": [
    "test_dl = learner.dls.test_dl(test_files)"
   ],
   "metadata": {
    "collapsed": false,
    "pycharm": {
     "name": "#%%\n"
    }
   }
  },
  {
   "cell_type": "code",
   "execution_count": 17,
   "metadata": {
    "pycharm": {
     "name": "#%%\n"
    }
   },
   "outputs": [
    {
     "data": {
      "text/plain": "torch.Size([1, 3, 32, 128])"
     },
     "execution_count": 17,
     "metadata": {},
     "output_type": "execute_result"
    }
   ],
   "source": [
    "test_dl.one_batch()[0].size()"
   ]
  },
  {
   "cell_type": "markdown",
   "source": [
    "### Get predictions"
   ],
   "metadata": {
    "collapsed": false,
    "pycharm": {
     "name": "#%% md\n"
    }
   }
  },
  {
   "cell_type": "code",
   "execution_count": 18,
   "metadata": {
    "pycharm": {
     "name": "#%%\n"
    }
   },
   "outputs": [
    {
     "data": {
      "text/plain": "<IPython.core.display.HTML object>",
      "text/html": "\n    <div>\n        <style>\n            /* Turns off some styling */\n            progress {\n                /* gets rid of default border in Firefox and Opera. */\n                border: none;\n                /* Needs to be in here for Safari polyfill so background images work as expected. */\n                background-size: auto;\n            }\n            .progress-bar-interrupted, .progress-bar-interrupted::-webkit-progress-bar {\n                background: #F44336;\n            }\n        </style>\n      <progress value='0' class='' max='1' style='width:300px; height:20px; vertical-align: middle;'></progress>\n      \n    </div>\n    "
     },
     "metadata": {},
     "output_type": "display_data"
    },
    {
     "name": "stderr",
     "output_type": "stream",
     "text": [
      "/home/thanhlt998/anaconda3/envs/deep-learning/lib/python3.6/site-packages/ipykernel_launcher.py:22: RuntimeWarning: invalid value encountered in true_divide\n"
     ]
    },
    {
     "data": {
      "text/plain": "torch.Size([7, 1, 20])"
     },
     "execution_count": 18,
     "metadata": {},
     "output_type": "execute_result"
    }
   ],
   "source": [
    "preds = learner.get_preds(dl=test_dl, reorder=False)[0]\n",
    "preds.size()"
   ]
  },
  {
   "cell_type": "markdown",
   "source": [
    "### Get prediction text"
   ],
   "metadata": {
    "collapsed": false,
    "pycharm": {
     "name": "#%% md\n"
    }
   }
  },
  {
   "cell_type": "code",
   "execution_count": 19,
   "outputs": [
    {
     "data": {
      "text/plain": "['2b827']"
     },
     "execution_count": 19,
     "metadata": {},
     "output_type": "execute_result"
    }
   ],
   "source": [
    "[learner.dls.tfms[-1][-1].decode(preds[:,i,:].argmax(dim=-1)) for i in range(preds.size(1))]"
   ],
   "metadata": {
    "collapsed": false,
    "pycharm": {
     "name": "#%%\n"
    }
   }
  },
  {
   "cell_type": "markdown",
   "metadata": {
    "pycharm": {
     "name": "#%% md\n"
    }
   },
   "source": [
    "### Test with transparent background image"
   ]
  },
  {
   "cell_type": "code",
   "execution_count": null,
   "outputs": [],
   "source": [
    "tmp = PILImageBW.create('98348.png')"
   ],
   "metadata": {
    "collapsed": false,
    "pycharm": {
     "name": "#%%\n"
    }
   }
  },
  {
   "cell_type": "code",
   "execution_count": 25,
   "outputs": [
    {
     "data": {
      "text/plain": "<PIL.Image.Image image mode=1 size=200x61 at 0x7F239B4ADE10>",
      "image/png": "[encoded data removed]"
     },
     "execution_count": 25,
     "metadata": {},
     "output_type": "execute_result"
    }
   ],
   "source": [
    "tmp.convert('1')"
   ],
   "metadata": {
    "collapsed": false,
    "pycharm": {
     "name": "#%%\n"
    }
   }
  },
  {
   "cell_type": "code",
   "execution_count": 28,
   "outputs": [],
   "source": [
    "test_dl = learner.dls.test_dl(['98348.png'])\n",
    "x = test_dl.one_batch()[0]"
   ],
   "metadata": {
    "collapsed": false,
    "pycharm": {
     "name": "#%%\n"
    }
   }
  },
  {
   "cell_type": "code",
   "execution_count": 37,
   "outputs": [],
   "source": [
    "x = torch.where(x != -1, x, torch.full(size=x.size(), fill_value=1, dtype=x.dtype))\n",
    "preds = learner.model(x)"
   ],
   "metadata": {
    "collapsed": false,
    "pycharm": {
     "name": "#%%\n"
    }
   }
  },
  {
   "cell_type": "code",
   "execution_count": 38,
   "outputs": [
    {
     "data": {
      "text/plain": "['g6']"
     },
     "execution_count": 38,
     "metadata": {},
     "output_type": "execute_result"
    }
   ],
   "source": [
    "[learner.dls.tfms[-1][-1].decode(preds[:,i,:].argmax(dim=-1)) for i in range(preds.size(1))]"
   ],
   "metadata": {
    "collapsed": false,
    "pycharm": {
     "name": "#%%\n"
    }
   }
  },
  {
   "cell_type": "code",
   "execution_count": 40,
   "outputs": [
    {
     "data": {
      "text/plain": "(torch.Size([5, 1, 20]), torch.Size([1, 3, 32, 104]))"
     },
     "execution_count": 40,
     "metadata": {},
     "output_type": "execute_result"
    }
   ],
   "source": [
    "preds.size(), x.size()\n"
   ],
   "metadata": {
    "collapsed": false,
    "pycharm": {
     "name": "#%%\n"
    }
   }
  }
 ],
 "metadata": {
  "kernelspec": {
   "display_name": "Python 3",
   "language": "python",
   "name": "python3"
  },
  "language_info": {
   "codemirror_mode": {
    "name": "ipython",
    "version": 3
   },
   "file_extension": ".py",
   "mimetype": "text/x-python",
   "name": "python",
   "nbconvert_exporter": "python",
   "pygments_lexer": "ipython3",
   "version": "3.6.10"
  }
 },
 "nbformat": 4,
 "nbformat_minor": 1
}