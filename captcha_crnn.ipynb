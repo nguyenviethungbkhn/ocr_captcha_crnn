{
 "cells": [
  {
   "cell_type": "code",
   "execution_count": 20,
   "metadata": {},
   "outputs": [],
   "source": [
    "import torch\n",
    "import torch.nn as nn\n",
    "from fastai.vision.all import (\n",
    "    L, Path, TensorCategory, Category,\n",
    "    Transform, Pipeline, ToTensor, Normalize, Resize, IntToFloatTensor,\n",
    "    PILImage, PILImageBW,\n",
    "    Categorize,\n",
    "    RandomSplitter,\n",
    "    Datasets,\n",
    "    Learner,\n",
    "    get_image_files,\n",
    "    show_image,\n",
    "    Metric,\n",
    "    TensorImage,\n",
    "    load_learner,\n",
    ")\n",
    "import random\n",
    "import numpy as np\n",
    "import re"
   ]
  },
  {
   "cell_type": "markdown",
   "metadata": {
    "pycharm": {
     "name": "#%% md\n"
    }
   },
   "source": [
    "# Seed all"
   ]
  },
  {
   "cell_type": "code",
   "execution_count": 21,
   "metadata": {
    "pycharm": {
     "name": "#%%\n"
    }
   },
   "outputs": [],
   "source": [
    "def seed_all(seed_value):\n",
    "    random.seed(seed_value)\n",
    "    np.random.seed(seed_value)\n",
    "    torch.manual_seed(seed_value)\n",
    "\n",
    "    if torch.cuda.is_available():\n",
    "        torch.cuda.manual_seed(seed_value)\n",
    "        torch.cuda.manual_seed_all(seed_value)\n",
    "        torch.backends.cudnn.deterministic = True\n",
    "        torch.backends.cudnn.benchmark = False"
   ]
  },
  {
   "cell_type": "markdown",
   "metadata": {
    "pycharm": {
     "name": "#%% md\n"
    }
   },
   "source": [
    "# Load data"
   ]
  },
  {
   "cell_type": "code",
   "execution_count": 22,
   "metadata": {
    "pycharm": {
     "name": "#%%\n"
    }
   },
   "outputs": [],
   "source": [
    "def label_func(path: Path):\n",
    "    \"\"\"\n",
    "    Read label from file name\n",
    "    :param path: path of file\n",
    "    :return: label\n",
    "    \"\"\"\n",
    "    return list(path.name.split('.')[0])"
   ]
  },
  {
   "cell_type": "code",
   "execution_count": 23,
   "metadata": {
    "pycharm": {
     "name": "#%%\n"
    }
   },
   "outputs": [],
   "source": [
    "class CategorizeList(Categorize):\n",
    "    def __init__(self, vocab=None, add_na=False, blank='-'):\n",
    "        super(CategorizeList, self).__init__(vocab=vocab, add_na=add_na, sort=False,)\n",
    "        self.blank = blank\n",
    "\n",
    "    @property\n",
    "    def blank_idx(self):\n",
    "        return self.vocab.o2i[self.blank]\n",
    "\n",
    "    @property\n",
    "    def n_classes(self):\n",
    "        return len(self.vocab.items)\n",
    "\n",
    "    def setups(self, dsets):\n",
    "        dsets = sum(dsets, L(self.blank))\n",
    "        super(CategorizeList, self).setups(dsets=dsets)\n",
    "\n",
    "    def encodes(self, os):\n",
    "        return TensorCategory([self.vocab.o2i[o] for o in os])\n",
    "\n",
    "    def decodes(self, os, raw=False):\n",
    "        s = ''.join([self.vocab[o] for o in os])\n",
    "        if not raw:\n",
    "            s = re.sub(self.blank, '', re.sub(r'(\\w)\\1+', r'\\1', s))\n",
    "\n",
    "        return Category(s)\n"
   ]
  },
  {
   "cell_type": "code",
   "execution_count": 24,
   "metadata": {
    "pycharm": {
     "name": "#%%\n"
    }
   },
   "outputs": [],
   "source": [
    "class BeforeBatchTransform(Transform):\n",
    "    \"\"\"\n",
    "    Resize image before create batch\n",
    "    \"\"\"\n",
    "    def __init__(self, height=32, width=32 * 5, keep_ratio=False, min_ratio=5.):\n",
    "        super(BeforeBatchTransform, self).__init__()\n",
    "        self.height, self.width = height, width\n",
    "        self.keep_ratio, self.min_ratio = keep_ratio, min_ratio\n",
    "\n",
    "    def encodes(self, items):\n",
    "        images, *labels = zip(*items)\n",
    "        \n",
    "        height, width = self.height, self.width\n",
    "\n",
    "        if self.keep_ratio:\n",
    "            max_ratio = self.min_ratio\n",
    "            for image in images:\n",
    "                w, h = image.size\n",
    "                max_ratio = max(max_ratio, w / h)\n",
    "            width = int(np.floor(height * max_ratio))\n",
    "\n",
    "        rs_tfm = Resize(size=(height, width))\n",
    "        images = [rs_tfm(image) for image in images]\n",
    "        return zip(images, *labels)"
   ]
  },
  {
   "cell_type": "code",
   "execution_count": 25,
   "metadata": {
    "pycharm": {
     "name": "#%%\n"
    }
   },
   "outputs": [],
   "source": [
    "class CreateBatchTransform(Transform):\n",
    "    \"\"\"\n",
    "    Create batch\n",
    "    \"\"\"\n",
    "    def __init__(self):\n",
    "        super(CreateBatchTransform, self).__init__()\n",
    "        self.pipeline = Pipeline(funcs=[ToTensor,])\n",
    "\n",
    "    def encodes(self, items):\n",
    "        images, *labels = zip(*items)\n",
    "\n",
    "        # process images\n",
    "        images = self.pipeline(images)\n",
    "        xs = TensorImage(torch.stack(images, dim=0))\n",
    "\n",
    "        # process labels\n",
    "        if len(labels) > 0:\n",
    "            ys = labels[0]\n",
    "            y_lengths = torch.LongTensor([y.size(0) for y in ys])\n",
    "            ys = torch.cat(ys, dim=0)\n",
    "            return xs, (ys, y_lengths)\n",
    "        return xs,"
   ]
  },
  {
   "cell_type": "markdown",
   "metadata": {
    "pycharm": {
     "name": "#%% md\n"
    }
   },
   "source": [
    "## Test load data"
   ]
  },
  {
   "cell_type": "code",
   "execution_count": 28,
   "metadata": {
    "pycharm": {
     "name": "#%%\n"
    }
   },
   "outputs": [],
   "source": [
    "data_path = Path('data/images')\n",
    "# data_path = Path('data/kaggle_data/samples')"
   ]
  },
  {
   "cell_type": "code",
   "execution_count": 29,
   "metadata": {
    "pycharm": {
     "name": "#%%\n"
    }
   },
   "outputs": [],
   "source": [
    "f_names = get_image_files(data_path)"
   ]
  },
  {
   "cell_type": "code",
   "execution_count": 30,
   "metadata": {
    "pycharm": {
     "name": "#%%\n"
    }
   },
   "outputs": [],
   "source": [
    "item_tfms = [PILImage.create, ]\n",
    "y_tfms = [label_func, CategorizeList(add_na=True),]\n",
    "\n",
    "ds = Datasets(\n",
    "    items=f_names,\n",
    "    tfms=[\n",
    "        item_tfms,\n",
    "        y_tfms,\n",
    "    ],\n",
    "    n_inp=1,\n",
    ")"
   ]
  },
  {
   "cell_type": "code",
   "execution_count": 31,
   "metadata": {
    "pycharm": {
     "name": "#%%\n"
    }
   },
   "outputs": [
    {
     "data": {
      "text/plain": [
       "<AxesSubplot:title={'center':'0FQU'}>"
      ]
     },
     "execution_count": 31,
     "metadata": {},
     "output_type": "execute_result"
    },
    {
     "data": {
      "image/png": "[encoded data removed]",
      "text/plain": [
       "<Figure size 72x360 with 1 Axes>"
      ]
     },
     "metadata": {
      "needs_background": "light"
     },
     "output_type": "display_data"
    }
   ],
   "source": [
    "ds.show(ds[0])"
   ]
  },
  {
   "cell_type": "code",
   "execution_count": 32,
   "metadata": {
    "pycharm": {
     "name": "#%%\n"
    }
   },
   "outputs": [],
   "source": [
    "x, y = ds[0]"
   ]
  },
  {
   "cell_type": "code",
   "execution_count": 33,
   "metadata": {
    "pycharm": {
     "name": "#%%\n"
    }
   },
   "outputs": [
    {
     "data": {
      "text/plain": [
       "(PILImage mode=RGB size=160x60, TensorCategory([2, 2, 3, 4, 5]))"
      ]
     },
     "execution_count": 33,
     "metadata": {},
     "output_type": "execute_result"
    }
   ],
   "source": [
    "x, y"
   ]
  },
  {
   "cell_type": "code",
   "execution_count": 34,
   "metadata": {
    "pycharm": {
     "name": "#%%\n"
    }
   },
   "outputs": [],
   "source": [
    "dl = ds.dataloaders(\n",
    "    bs=8,\n",
    "    before_batch=BeforeBatchTransform(keep_ratio=True),\n",
    "    create_batch=CreateBatchTransform(),\n",
    "    after_batch=[\n",
    "        IntToFloatTensor(), \n",
    "        Normalize.from_stats([0.5] * 3, [0.5] * 3),\n",
    "    ]\n",
    ")"
   ]
  },
  {
   "cell_type": "code",
   "execution_count": 35,
   "metadata": {
    "pycharm": {
     "name": "#%%\n"
    }
   },
   "outputs": [],
   "source": [
    "x, y = dl.one_batch()"
   ]
  },
  {
   "cell_type": "code",
   "execution_count": 36,
   "metadata": {
    "pycharm": {
     "name": "#%%\n"
    }
   },
   "outputs": [
    {
     "data": {
      "text/plain": [
       "torch.Size([8, 3, 32, 160])"
      ]
     },
     "execution_count": 36,
     "metadata": {},
     "output_type": "execute_result"
    }
   ],
   "source": [
    "x.size()"
   ]
  },
  {
   "cell_type": "code",
   "execution_count": 37,
   "metadata": {
    "pycharm": {
     "name": "#%%\n"
    }
   },
   "outputs": [
    {
     "data": {
      "text/plain": [
       "(TensorCategory([26, 39, 38, 25, 40, 43, 60, 32, 15,  6,  2, 30,  7, 61, 32, 39, 15,  5,\n",
       "         14,  7, 44, 60, 29, 41, 48, 14, 21,  7,  3, 39, 38, 25, 38, 14, 26, 21,\n",
       "          3, 19, 30, 30], device='cuda:0'),\n",
       " TensorCategory([5, 5, 5, 5, 5, 5, 5, 5], device='cuda:0'))"
      ]
     },
     "execution_count": 37,
     "metadata": {},
     "output_type": "execute_result"
    }
   ],
   "source": [
    "y[0], y[1]"
   ]
  },
  {
   "cell_type": "code",
   "execution_count": 38,
   "metadata": {},
   "outputs": [],
   "source": [
    "test_dl = dl.test_dl([Path('2b827.png')], with_labels=False)"
   ]
  },
  {
   "cell_type": "code",
   "execution_count": 39,
   "metadata": {},
   "outputs": [
    {
     "data": {
      "text/plain": [
       "(TensorImage([[[[0.5059, 0.5059, 0.5137,  ..., 0.9608, 0.9686, 0.9686],\n",
       "           [0.5059, 0.5059, 0.5137,  ..., 0.9608, 0.9686, 0.9686],\n",
       "           [0.5059, 0.5059, 0.5137,  ..., 0.9608, 0.9686, 0.9686],\n",
       "           ...,\n",
       "           [0.5216, 0.5216, 0.5294,  ..., 0.9765, 0.9843, 0.9843],\n",
       "           [0.5294, 0.5294, 0.5373,  ..., 0.9843, 0.9922, 0.9922],\n",
       "           [0.5294, 0.5294, 0.5373,  ..., 0.9843, 0.9922, 0.9922]],\n",
       " \n",
       "          [[0.5059, 0.5059, 0.5137,  ..., 0.9608, 0.9686, 0.9686],\n",
       "           [0.5059, 0.5059, 0.5137,  ..., 0.9608, 0.9686, 0.9686],\n",
       "           [0.5059, 0.5059, 0.5137,  ..., 0.9608, 0.9686, 0.9686],\n",
       "           ...,\n",
       "           [0.5216, 0.5216, 0.5294,  ..., 0.9765, 0.9843, 0.9843],\n",
       "           [0.5294, 0.5294, 0.5373,  ..., 0.9843, 0.9922, 0.9922],\n",
       "           [0.5294, 0.5294, 0.5373,  ..., 0.9843, 0.9922, 0.9922]],\n",
       " \n",
       "          [[0.5059, 0.5059, 0.5137,  ..., 0.9608, 0.9686, 0.9686],\n",
       "           [0.5059, 0.5059, 0.5137,  ..., 0.9608, 0.9686, 0.9686],\n",
       "           [0.5059, 0.5059, 0.5137,  ..., 0.9608, 0.9686, 0.9686],\n",
       "           ...,\n",
       "           [0.5216, 0.5216, 0.5294,  ..., 0.9765, 0.9843, 0.9843],\n",
       "           [0.5294, 0.5294, 0.5373,  ..., 0.9843, 0.9922, 0.9922],\n",
       "           [0.5294, 0.5294, 0.5373,  ..., 0.9843, 0.9922, 0.9922]]]],\n",
       "        device='cuda:0'),)"
      ]
     },
     "execution_count": 39,
     "metadata": {},
     "output_type": "execute_result"
    }
   ],
   "source": [
    "test_dl.one_batch()"
   ]
  },
  {
   "cell_type": "markdown",
   "metadata": {
    "pycharm": {
     "name": "#%% md\n"
    }
   },
   "source": [
    "# Model"
   ]
  },
  {
   "cell_type": "markdown",
   "metadata": {
    "pycharm": {
     "name": "#%% md\n"
    }
   },
   "source": [
    "## CNN model"
   ]
  },
  {
   "cell_type": "code",
   "execution_count": 40,
   "metadata": {
    "pycharm": {
     "name": "#%%\n"
    }
   },
   "outputs": [],
   "source": [
    "def conv_block(in_c, out_c, ks, stride, p, bn=False, leaky_relu=False):\n",
    "    layers = list()\n",
    "    layers.append(nn.Conv2d(\n",
    "        in_channels=in_c,\n",
    "        out_channels=out_c,\n",
    "        kernel_size=ks,\n",
    "        stride=stride,\n",
    "        padding=p,\n",
    "    ))\n",
    "\n",
    "    if bn:\n",
    "        layers.append(nn.BatchNorm2d(num_features=out_c))\n",
    "\n",
    "    if leaky_relu:\n",
    "        layers.append(nn.LeakyReLU(0.2, True))\n",
    "    else:\n",
    "        layers.append(nn.ReLU())\n",
    "    return layers\n",
    "\n",
    "class CNN(nn.Module):\n",
    "    def __init__(self, in_channels=3):\n",
    "        super(CNN, self).__init__()\n",
    "        ks = [3, 3, 3, 3, 3, 3, 2]\n",
    "        s  = [1, 1, 1, 1, 1, 1, 1]\n",
    "        p  = [1, 1, 1, 1, 1, 1, 0]\n",
    "        c  = [64, 128, 256, 256, 512, 512, 512]\n",
    "        mp = [(2, 2), (2, 2), None, ((1, 2), 2), None, ((1, 2), 2), None]\n",
    "        bn = [False, False, False, False, True, True, False]\n",
    "\n",
    "        layers = []\n",
    "        for i in range(len(ks)):\n",
    "            in_c = in_channels if i == 0 else c[i - 1]\n",
    "            layers.extend(conv_block(in_c=in_c, out_c=c[i], ks=ks[i], stride=s[i], p=p[i], bn=bn[i]))\n",
    "            if mp[i] is not None:\n",
    "                kernel_size, stride = mp[i]\n",
    "                layers.append(nn.MaxPool2d(kernel_size=kernel_size, stride=stride))\n",
    "\n",
    "        self.cnn = nn.Sequential(*layers)\n",
    "\n",
    "    def forward(self, x):\n",
    "        out = self.cnn(x)\n",
    "        return out"
   ]
  },
  {
   "cell_type": "markdown",
   "metadata": {
    "pycharm": {
     "name": "#%% md\n"
    }
   },
   "source": [
    "## RNN model"
   ]
  },
  {
   "cell_type": "code",
   "execution_count": 41,
   "metadata": {
    "pycharm": {
     "name": "#%%\n"
    }
   },
   "outputs": [],
   "source": [
    "class RNN(nn.Module):\n",
    "    def __init__(self, input_size, hidden_size, output_size, batch_first=False, bidirectional=True):\n",
    "        super(RNN, self).__init__()\n",
    "        self.input_size, self.hidden_size, self.output_size = input_size, hidden_size, output_size\n",
    "        self.batch_first, self.bidirectional = batch_first, bidirectional\n",
    "\n",
    "        self.lstm = nn.LSTM(\n",
    "            input_size=input_size,\n",
    "            hidden_size=hidden_size,\n",
    "            bidirectional=bidirectional,\n",
    "            batch_first=batch_first,\n",
    "        )\n",
    "\n",
    "        self.h2o = nn.Linear(in_features=hidden_size * 2 if bidirectional else hidden_size, out_features=output_size)\n",
    "\n",
    "    def forward(self, x):\n",
    "        out, _ = self.lstm(x)\n",
    "        return self.h2o(out)"
   ]
  },
  {
   "cell_type": "markdown",
   "metadata": {
    "pycharm": {
     "name": "#%% md\n"
    }
   },
   "source": [
    "## CRNN model = CNN + RNN"
   ]
  },
  {
   "cell_type": "code",
   "execution_count": 42,
   "metadata": {
    "pycharm": {
     "name": "#%%\n"
    }
   },
   "outputs": [],
   "source": [
    "class CRNN(nn.Module):\n",
    "    def __init__(self, in_channels, rnn_hidden_size, n_classes):\n",
    "        super(CRNN, self).__init__()\n",
    "        self.cnn = CNN(in_channels=in_channels)\n",
    "        self.rnn = nn.Sequential(\n",
    "            RNN(\n",
    "                input_size=512,\n",
    "                hidden_size=rnn_hidden_size,\n",
    "                output_size=rnn_hidden_size,\n",
    "                batch_first=False,\n",
    "                bidirectional=True\n",
    "            ),\n",
    "            RNN(\n",
    "                input_size=rnn_hidden_size,\n",
    "                hidden_size=rnn_hidden_size,\n",
    "                output_size=n_classes,\n",
    "                batch_first=False,\n",
    "                bidirectional=True\n",
    "            ),\n",
    "        )\n",
    "\n",
    "    def forward(self, x):\n",
    "        cnn_out = self.cnn(x)\n",
    "        cnn_out = cnn_out.squeeze(2).permute(2, 0, 1)\n",
    "        rnn_out = self.rnn(cnn_out)\n",
    "        return rnn_out"
   ]
  },
  {
   "cell_type": "markdown",
   "metadata": {
    "pycharm": {
     "name": "#%% md\n"
    }
   },
   "source": [
    "## CTC Loss"
   ]
  },
  {
   "cell_type": "code",
   "execution_count": 43,
   "metadata": {
    "pycharm": {
     "name": "#%%\n"
    }
   },
   "outputs": [],
   "source": [
    "class CTCLoss(nn.Module):\n",
    "    def __init__(self, blank=0):\n",
    "        super(CTCLoss, self).__init__()\n",
    "        self.ctc_loss = nn.CTCLoss(blank=blank, zero_infinity=True)\n",
    "\n",
    "    def forward(self, output, target):\n",
    "        T, N, C = output.size()\n",
    "        target, target_lengths = target\n",
    "        output_lengths = torch.full(size=(N,), fill_value=T, dtype=torch.long, device=output.device)\n",
    "        output = output.log_softmax(2)\n",
    "        return self.ctc_loss(output, target, output_lengths, target_lengths)"
   ]
  },
  {
   "cell_type": "markdown",
   "metadata": {
    "pycharm": {
     "name": "#%% md\n"
    }
   },
   "source": [
    "## Accuracy metric"
   ]
  },
  {
   "cell_type": "code",
   "execution_count": 44,
   "metadata": {
    "pycharm": {
     "name": "#%%\n"
    }
   },
   "outputs": [],
   "source": [
    "class AccMetric(Metric):\n",
    "    def __init__(self):\n",
    "        self.y_true, self.y_pred = [], []\n",
    "\n",
    "    def reset(self):\n",
    "        self.y_true, self.y_pred = [], []\n",
    "\n",
    "    def accumulate(self, learn):\n",
    "        label_categorize = learn.dls.tfms[1][-1]\n",
    "        yb_pred = learn.pred.permute(1, 0, 2).argmax(dim=2)\n",
    "        (yb, y_lengths), = learn.yb\n",
    "\n",
    "        yb = torch.split(yb, y_lengths.cpu().tolist())\n",
    "        self.y_true.extend([label_categorize.decode(y, raw=True) for y in yb])\n",
    "\n",
    "        self.y_pred.extend([label_categorize.decode(y) for y in yb_pred])\n",
    "\n",
    "    @property\n",
    "    def value(self):\n",
    "#         print(self.y_pred[:4], self.y_true[:4])\n",
    "        n_correct = (np.array(self.y_pred) == np.array(self.y_true)).sum()\n",
    "        return n_correct / float(len(self.y_true))\n",
    "\n",
    "    @property\n",
    "    def name(self):\n",
    "        return 'accuracy'\n"
   ]
  },
  {
   "cell_type": "markdown",
   "metadata": {
    "pycharm": {
     "name": "#%% md\n"
    }
   },
   "source": [
    "### Test model and loss func"
   ]
  },
  {
   "cell_type": "code",
   "execution_count": 45,
   "metadata": {
    "pycharm": {
     "name": "#%%\n"
    }
   },
   "outputs": [],
   "source": [
    "model = CRNN(in_channels=3, rnn_hidden_size=256, n_classes=ds.tfms[1][-1].n_classes)\n",
    "model = model.cuda()"
   ]
  },
  {
   "cell_type": "code",
   "execution_count": 46,
   "metadata": {
    "pycharm": {
     "name": "#%%\n"
    }
   },
   "outputs": [
    {
     "data": {
      "text/plain": [
       "torch.Size([9, 8, 64])"
      ]
     },
     "execution_count": 46,
     "metadata": {},
     "output_type": "execute_result"
    }
   ],
   "source": [
    "out = model(x)\n",
    "out.size()"
   ]
  },
  {
   "cell_type": "code",
   "execution_count": 47,
   "metadata": {
    "pycharm": {
     "name": "#%%\n"
    }
   },
   "outputs": [],
   "source": [
    "loss_func = CTCLoss(blank=ds.tfms[1][-1].blank_idx)"
   ]
  },
  {
   "cell_type": "code",
   "execution_count": 48,
   "metadata": {
    "pycharm": {
     "name": "#%%\n"
    }
   },
   "outputs": [
    {
     "data": {
      "text/plain": [
       "tensor(6.1502, device='cuda:0', grad_fn=<MeanBackward0>)"
      ]
     },
     "execution_count": 48,
     "metadata": {},
     "output_type": "execute_result"
    }
   ],
   "source": [
    "loss_func(out, y)"
   ]
  },
  {
   "cell_type": "markdown",
   "metadata": {
    "pycharm": {
     "name": "#%% md\n"
    }
   },
   "source": [
    "# Train model"
   ]
  },
  {
   "cell_type": "markdown",
   "metadata": {
    "pycharm": {
     "name": "#%% md\n"
    }
   },
   "source": [
    "## Config"
   ]
  },
  {
   "cell_type": "code",
   "execution_count": 50,
   "metadata": {
    "pycharm": {
     "name": "#%%\n"
    }
   },
   "outputs": [],
   "source": [
    "data_path = Path('data/images')\n",
    "# data_path = Path('data/kaggle_data/samples')\n",
    "bs = 32"
   ]
  },
  {
   "cell_type": "markdown",
   "metadata": {
    "pycharm": {
     "name": "#%% md\n"
    }
   },
   "source": [
    "## Load data"
   ]
  },
  {
   "cell_type": "code",
   "execution_count": 51,
   "metadata": {
    "pycharm": {
     "name": "#%%\n"
    }
   },
   "outputs": [],
   "source": [
    "f_names = get_image_files(data_path)\n",
    "# f_names = f_names[:500]"
   ]
  },
  {
   "cell_type": "code",
   "execution_count": 52,
   "metadata": {
    "pycharm": {
     "name": "#%%\n"
    }
   },
   "outputs": [
    {
     "data": {
      "text/plain": [
       "<AxesSubplot:title={'center':'0FQU'}>"
      ]
     },
     "execution_count": 52,
     "metadata": {},
     "output_type": "execute_result"
    },
    {
     "data": {
      "image/png": "[encoded data removed]",
      "text/plain": [
       "<Figure size 72x360 with 1 Axes>"
      ]
     },
     "metadata": {
      "needs_background": "light"
     },
     "output_type": "display_data"
    }
   ],
   "source": [
    "item_tfms = [PILImage.create, ]\n",
    "y_tfms = [label_func, CategorizeList(add_na=False),]\n",
    "\n",
    "ds = Datasets(\n",
    "    items=f_names,\n",
    "    tfms=[\n",
    "        item_tfms,\n",
    "        y_tfms,\n",
    "    ],\n",
    "    splits=RandomSplitter(valid_pct=0.2, seed=42)(f_names),\n",
    ")\n",
    "ds.show(ds[0])"
   ]
  },
  {
   "cell_type": "code",
   "execution_count": 53,
   "metadata": {
    "pycharm": {
     "name": "#%%\n"
    }
   },
   "outputs": [],
   "source": [
    "dls = ds.dataloaders(\n",
    "    bs=bs,\n",
    "    before_batch=BeforeBatchTransform(keep_ratio=True),\n",
    "    create_batch=CreateBatchTransform(),\n",
    "    after_batch=[IntToFloatTensor, Normalize.from_stats([0.5] * 3, [0.5] * 3)],\n",
    ")"
   ]
  },
  {
   "cell_type": "code",
   "execution_count": 54,
   "metadata": {
    "pycharm": {
     "name": "#%%\n"
    }
   },
   "outputs": [],
   "source": [
    "# dls.one_batch()"
   ]
  },
  {
   "cell_type": "markdown",
   "metadata": {
    "pycharm": {
     "name": "#%% md\n"
    }
   },
   "source": [
    "## Create model"
   ]
  },
  {
   "cell_type": "code",
   "execution_count": 55,
   "metadata": {
    "pycharm": {
     "name": "#%%\n"
    }
   },
   "outputs": [],
   "source": [
    "model = CRNN(in_channels=3, rnn_hidden_size=256, n_classes=ds.tfms[1][-1].n_classes)\n",
    "loss_func = CTCLoss(blank=ds.tfms[1][-1].blank_idx)"
   ]
  },
  {
   "cell_type": "code",
   "execution_count": 56,
   "metadata": {
    "pycharm": {
     "name": "#%%\n"
    }
   },
   "outputs": [
    {
     "data": {
      "text/plain": [
       "(#63) ['-','V','A','R','I','J','U','1','d','x'...]"
      ]
     },
     "execution_count": 56,
     "metadata": {},
     "output_type": "execute_result"
    }
   ],
   "source": [
    "ds.tfms[1][-1].vocab"
   ]
  },
  {
   "cell_type": "markdown",
   "metadata": {
    "pycharm": {
     "name": "#%% md\n"
    }
   },
   "source": [
    "## Create learner"
   ]
  },
  {
   "cell_type": "code",
   "execution_count": 57,
   "metadata": {
    "pycharm": {
     "name": "#%%\n"
    }
   },
   "outputs": [],
   "source": [
    "learner = Learner(\n",
    "    dls=dls,\n",
    "    model=model,\n",
    "    loss_func=loss_func,\n",
    "    metrics=[AccMetric()]\n",
    ")"
   ]
  },
  {
   "cell_type": "markdown",
   "metadata": {
    "pycharm": {
     "name": "#%% md\n"
    }
   },
   "source": [
    "## Training"
   ]
  },
  {
   "cell_type": "code",
   "execution_count": 58,
   "metadata": {
    "pycharm": {
     "name": "#%%\n"
    }
   },
   "outputs": [
    {
     "data": {
      "text/html": [],
      "text/plain": [
       "<IPython.core.display.HTML object>"
      ]
     },
     "metadata": {},
     "output_type": "display_data"
    },
    {
     "data": {
      "text/plain": [
       "SuggestedLRs(lr_min=0.00831763744354248, lr_steep=0.0002754228771664202)"
      ]
     },
     "execution_count": 58,
     "metadata": {},
     "output_type": "execute_result"
    },
    {
     "data": {
      "image/png": "[encoded data removed]",
      "text/plain": [
       "<Figure size 432x288 with 1 Axes>"
      ]
     },
     "metadata": {
      "needs_background": "light"
     },
     "output_type": "display_data"
    }
   ],
   "source": [
    "# learning rate finder\n",
    "learner.lr_find()"
   ]
  },
  {
   "cell_type": "code",
   "execution_count": 59,
   "metadata": {
    "pycharm": {
     "name": "#%%\n"
    }
   },
   "outputs": [
    {
     "data": {
      "text/html": [
       "<table border=\"1\" class=\"dataframe\">\n",
       "  <thead>\n",
       "    <tr style=\"text-align: left;\">\n",
       "      <th>epoch</th>\n",
       "      <th>train_loss</th>\n",
       "      <th>valid_loss</th>\n",
       "      <th>accuracy</th>\n",
       "      <th>time</th>\n",
       "    </tr>\n",
       "  </thead>\n",
       "  <tbody>\n",
       "    <tr>\n",
       "      <td>0</td>\n",
       "      <td>4.450558</td>\n",
       "      <td>4.300001</td>\n",
       "      <td>0.000000</td>\n",
       "      <td>00:13</td>\n",
       "    </tr>\n",
       "    <tr>\n",
       "      <td>1</td>\n",
       "      <td>4.313459</td>\n",
       "      <td>4.303929</td>\n",
       "      <td>0.000000</td>\n",
       "      <td>00:13</td>\n",
       "    </tr>\n",
       "    <tr>\n",
       "      <td>2</td>\n",
       "      <td>4.276678</td>\n",
       "      <td>4.291604</td>\n",
       "      <td>0.000000</td>\n",
       "      <td>00:12</td>\n",
       "    </tr>\n",
       "    <tr>\n",
       "      <td>3</td>\n",
       "      <td>4.218538</td>\n",
       "      <td>4.246852</td>\n",
       "      <td>0.000000</td>\n",
       "      <td>00:12</td>\n",
       "    </tr>\n",
       "    <tr>\n",
       "      <td>4</td>\n",
       "      <td>4.077287</td>\n",
       "      <td>4.105125</td>\n",
       "      <td>0.000000</td>\n",
       "      <td>00:12</td>\n",
       "    </tr>\n",
       "    <tr>\n",
       "      <td>5</td>\n",
       "      <td>4.024330</td>\n",
       "      <td>4.052740</td>\n",
       "      <td>0.000000</td>\n",
       "      <td>00:13</td>\n",
       "    </tr>\n",
       "    <tr>\n",
       "      <td>6</td>\n",
       "      <td>3.953100</td>\n",
       "      <td>4.210034</td>\n",
       "      <td>0.000000</td>\n",
       "      <td>00:12</td>\n",
       "    </tr>\n",
       "    <tr>\n",
       "      <td>7</td>\n",
       "      <td>3.802382</td>\n",
       "      <td>3.835923</td>\n",
       "      <td>0.000000</td>\n",
       "      <td>00:12</td>\n",
       "    </tr>\n",
       "    <tr>\n",
       "      <td>8</td>\n",
       "      <td>3.662026</td>\n",
       "      <td>3.703047</td>\n",
       "      <td>0.000000</td>\n",
       "      <td>00:12</td>\n",
       "    </tr>\n",
       "    <tr>\n",
       "      <td>9</td>\n",
       "      <td>3.512480</td>\n",
       "      <td>3.529841</td>\n",
       "      <td>0.000000</td>\n",
       "      <td>00:13</td>\n",
       "    </tr>\n",
       "    <tr>\n",
       "      <td>10</td>\n",
       "      <td>3.388097</td>\n",
       "      <td>3.409327</td>\n",
       "      <td>0.000000</td>\n",
       "      <td>00:13</td>\n",
       "    </tr>\n",
       "    <tr>\n",
       "      <td>11</td>\n",
       "      <td>3.178703</td>\n",
       "      <td>3.227170</td>\n",
       "      <td>0.000000</td>\n",
       "      <td>00:13</td>\n",
       "    </tr>\n",
       "    <tr>\n",
       "      <td>12</td>\n",
       "      <td>2.897809</td>\n",
       "      <td>2.910761</td>\n",
       "      <td>0.000000</td>\n",
       "      <td>00:12</td>\n",
       "    </tr>\n",
       "    <tr>\n",
       "      <td>13</td>\n",
       "      <td>2.565799</td>\n",
       "      <td>2.638686</td>\n",
       "      <td>0.000000</td>\n",
       "      <td>00:12</td>\n",
       "    </tr>\n",
       "    <tr>\n",
       "      <td>14</td>\n",
       "      <td>2.306585</td>\n",
       "      <td>2.399529</td>\n",
       "      <td>0.003000</td>\n",
       "      <td>00:12</td>\n",
       "    </tr>\n",
       "    <tr>\n",
       "      <td>15</td>\n",
       "      <td>2.051363</td>\n",
       "      <td>2.233315</td>\n",
       "      <td>0.011000</td>\n",
       "      <td>00:13</td>\n",
       "    </tr>\n",
       "    <tr>\n",
       "      <td>16</td>\n",
       "      <td>1.838994</td>\n",
       "      <td>2.101581</td>\n",
       "      <td>0.011000</td>\n",
       "      <td>00:13</td>\n",
       "    </tr>\n",
       "    <tr>\n",
       "      <td>17</td>\n",
       "      <td>1.661896</td>\n",
       "      <td>2.036470</td>\n",
       "      <td>0.019000</td>\n",
       "      <td>00:12</td>\n",
       "    </tr>\n",
       "    <tr>\n",
       "      <td>18</td>\n",
       "      <td>1.507495</td>\n",
       "      <td>1.913228</td>\n",
       "      <td>0.024000</td>\n",
       "      <td>00:12</td>\n",
       "    </tr>\n",
       "    <tr>\n",
       "      <td>19</td>\n",
       "      <td>1.347924</td>\n",
       "      <td>1.870632</td>\n",
       "      <td>0.027000</td>\n",
       "      <td>00:13</td>\n",
       "    </tr>\n",
       "    <tr>\n",
       "      <td>20</td>\n",
       "      <td>1.235436</td>\n",
       "      <td>1.770646</td>\n",
       "      <td>0.040000</td>\n",
       "      <td>00:13</td>\n",
       "    </tr>\n",
       "    <tr>\n",
       "      <td>21</td>\n",
       "      <td>1.144708</td>\n",
       "      <td>1.729508</td>\n",
       "      <td>0.038000</td>\n",
       "      <td>00:13</td>\n",
       "    </tr>\n",
       "    <tr>\n",
       "      <td>22</td>\n",
       "      <td>1.052953</td>\n",
       "      <td>1.723077</td>\n",
       "      <td>0.030000</td>\n",
       "      <td>00:12</td>\n",
       "    </tr>\n",
       "    <tr>\n",
       "      <td>23</td>\n",
       "      <td>0.964047</td>\n",
       "      <td>1.661275</td>\n",
       "      <td>0.053000</td>\n",
       "      <td>00:12</td>\n",
       "    </tr>\n",
       "    <tr>\n",
       "      <td>24</td>\n",
       "      <td>0.903752</td>\n",
       "      <td>1.644830</td>\n",
       "      <td>0.048000</td>\n",
       "      <td>00:13</td>\n",
       "    </tr>\n",
       "    <tr>\n",
       "      <td>25</td>\n",
       "      <td>0.852465</td>\n",
       "      <td>1.616286</td>\n",
       "      <td>0.062000</td>\n",
       "      <td>00:13</td>\n",
       "    </tr>\n",
       "    <tr>\n",
       "      <td>26</td>\n",
       "      <td>0.821785</td>\n",
       "      <td>1.588205</td>\n",
       "      <td>0.056000</td>\n",
       "      <td>00:13</td>\n",
       "    </tr>\n",
       "    <tr>\n",
       "      <td>27</td>\n",
       "      <td>0.772227</td>\n",
       "      <td>1.599563</td>\n",
       "      <td>0.051000</td>\n",
       "      <td>00:13</td>\n",
       "    </tr>\n",
       "    <tr>\n",
       "      <td>28</td>\n",
       "      <td>0.762206</td>\n",
       "      <td>1.612274</td>\n",
       "      <td>0.051000</td>\n",
       "      <td>00:13</td>\n",
       "    </tr>\n",
       "    <tr>\n",
       "      <td>29</td>\n",
       "      <td>0.767197</td>\n",
       "      <td>1.610158</td>\n",
       "      <td>0.060000</td>\n",
       "      <td>00:16</td>\n",
       "    </tr>\n",
       "  </tbody>\n",
       "</table>"
      ],
      "text/plain": [
       "<IPython.core.display.HTML object>"
      ]
     },
     "metadata": {},
     "output_type": "display_data"
    }
   ],
   "source": [
    "# fit one cycle\n",
    "learner.fit_one_cycle(30, lr=1e-3)"
   ]
  },
  {
   "cell_type": "code",
   "execution_count": 198,
   "metadata": {
    "pycharm": {
     "name": "#%%\n"
    }
   },
   "outputs": [
    {
     "data": {
      "text/plain": [
       "Path('models/captcha_9393.pth')"
      ]
     },
     "execution_count": 198,
     "metadata": {},
     "output_type": "execute_result"
    }
   ],
   "source": [
    "learner.save('captcha_9393')"
   ]
  },
  {
   "cell_type": "code",
   "execution_count": 199,
   "metadata": {
    "pycharm": {
     "name": "#%%\n"
    }
   },
   "outputs": [],
   "source": [
    "learner.export('captcha_9393.pkl')"
   ]
  },
  {
   "cell_type": "markdown",
   "metadata": {
    "pycharm": {
     "name": "#%% md\n"
    }
   },
   "source": [
    "## Predict\n"
   ]
  },
  {
   "cell_type": "markdown",
   "metadata": {
    "pycharm": {
     "name": "#%% md\n"
    }
   },
   "source": [
    "### Load learner"
   ]
  },
  {
   "cell_type": "code",
   "execution_count": 13,
   "metadata": {
    "pycharm": {
     "name": "#%%\n"
    }
   },
   "outputs": [],
   "source": [
    "learner = load_learner('captcha_9393.pkl')"
   ]
  },
  {
   "cell_type": "markdown",
   "metadata": {},
   "source": [
    "### Load test_dl"
   ]
  },
  {
   "cell_type": "code",
   "execution_count": 14,
   "metadata": {
    "pycharm": {
     "name": "#%%\n"
    }
   },
   "outputs": [],
   "source": [
    "# test_files = L(Path('2b827.png'))\n",
    "test_files = L(Path('98348.png'))"
   ]
  },
  {
   "cell_type": "code",
   "execution_count": 15,
   "metadata": {
    "pycharm": {
     "name": "#%%\n"
    }
   },
   "outputs": [],
   "source": [
    "test_dl = learner.dls.test_dl(test_files)"
   ]
  },
  {
   "cell_type": "code",
   "execution_count": 16,
   "metadata": {
    "pycharm": {
     "name": "#%%\n"
    }
   },
   "outputs": [
    {
     "data": {
      "text/plain": [
       "torch.Size([1, 3, 32, 104])"
      ]
     },
     "execution_count": 16,
     "metadata": {},
     "output_type": "execute_result"
    }
   ],
   "source": [
    "test_dl.one_batch()[0].size()"
   ]
  },
  {
   "cell_type": "markdown",
   "metadata": {
    "pycharm": {
     "name": "#%% md\n"
    }
   },
   "source": [
    "### Get predictions"
   ]
  },
  {
   "cell_type": "code",
   "execution_count": 17,
   "metadata": {
    "pycharm": {
     "name": "#%%\n"
    }
   },
   "outputs": [
    {
     "data": {
      "text/html": [
       "\n",
       "    <div>\n",
       "        <style>\n",
       "            /* Turns off some styling */\n",
       "            progress {\n",
       "                /* gets rid of default border in Firefox and Opera. */\n",
       "                border: none;\n",
       "                /* Needs to be in here for Safari polyfill so background images work as expected. */\n",
       "                background-size: auto;\n",
       "            }\n",
       "            .progress-bar-interrupted, .progress-bar-interrupted::-webkit-progress-bar {\n",
       "                background: #F44336;\n",
       "            }\n",
       "        </style>\n",
       "      <progress value='0' class='' max='1' style='width:300px; height:20px; vertical-align: middle;'></progress>\n",
       "      \n",
       "    </div>\n",
       "    "
      ],
      "text/plain": [
       "<IPython.core.display.HTML object>"
      ]
     },
     "metadata": {},
     "output_type": "display_data"
    },
    {
     "name": "stderr",
     "output_type": "stream",
     "text": [
      "/home/thanhlt998/anaconda3/envs/deep-learning/lib/python3.6/site-packages/ipykernel_launcher.py:22: RuntimeWarning: invalid value encountered in true_divide\n"
     ]
    },
    {
     "data": {
      "text/plain": [
       "torch.Size([5, 1, 20])"
      ]
     },
     "execution_count": 17,
     "metadata": {},
     "output_type": "execute_result"
    }
   ],
   "source": [
    "preds = learner.get_preds(dl=test_dl, reorder=False)[0]\n",
    "preds.size()"
   ]
  },
  {
   "cell_type": "markdown",
   "metadata": {
    "pycharm": {
     "name": "#%% md\n"
    }
   },
   "source": [
    "### Get prediction text"
   ]
  },
  {
   "cell_type": "code",
   "execution_count": 18,
   "metadata": {
    "pycharm": {
     "name": "#%%\n"
    }
   },
   "outputs": [
    {
     "data": {
      "text/plain": [
       "['xcc']"
      ]
     },
     "execution_count": 18,
     "metadata": {},
     "output_type": "execute_result"
    }
   ],
   "source": [
    "[learner.dls.tfms[-1][-1].decode(preds[:,i,:].argmax(dim=-1)) for i in range(preds.size(1))]"
   ]
  },
  {
   "cell_type": "markdown",
   "metadata": {
    "pycharm": {
     "name": "#%% md\n"
    }
   },
   "source": [
    "### Test with transparent background image"
   ]
  },
  {
   "cell_type": "code",
   "execution_count": 19,
   "metadata": {
    "pycharm": {
     "name": "#%%\n"
    }
   },
   "outputs": [],
   "source": [
    "tmp = PILImageBW.create('98348.png')"
   ]
  },
  {
   "cell_type": "code",
   "execution_count": 25,
   "metadata": {
    "pycharm": {
     "name": "#%%\n"
    }
   },
   "outputs": [
    {
     "data": {
      "image/png": "[encoded data removed]",
      "text/plain": [
       "<PIL.Image.Image image mode=1 size=200x61 at 0x7F239B4ADE10>"
      ]
     },
     "execution_count": 25,
     "metadata": {},
     "output_type": "execute_result"
    }
   ],
   "source": [
    "tmp.convert('1')"
   ]
  },
  {
   "cell_type": "code",
   "execution_count": 28,
   "metadata": {
    "pycharm": {
     "name": "#%%\n"
    }
   },
   "outputs": [],
   "source": [
    "test_dl = learner.dls.test_dl(['98348.png'])\n",
    "x = test_dl.one_batch()[0]"
   ]
  },
  {
   "cell_type": "code",
   "execution_count": 37,
   "metadata": {
    "pycharm": {
     "name": "#%%\n"
    }
   },
   "outputs": [],
   "source": [
    "x = torch.where(x != -1, x, torch.full(size=x.size(), fill_value=1, dtype=x.dtype))\n",
    "preds = learner.model(x)"
   ]
  },
  {
   "cell_type": "code",
   "execution_count": 38,
   "metadata": {
    "pycharm": {
     "name": "#%%\n"
    }
   },
   "outputs": [
    {
     "data": {
      "text/plain": [
       "['g6']"
      ]
     },
     "execution_count": 38,
     "metadata": {},
     "output_type": "execute_result"
    }
   ],
   "source": [
    "[learner.dls.tfms[-1][-1].decode(preds[:,i,:].argmax(dim=-1)) for i in range(preds.size(1))]"
   ]
  },
  {
   "cell_type": "code",
   "execution_count": 40,
   "metadata": {
    "pycharm": {
     "name": "#%%\n"
    }
   },
   "outputs": [
    {
     "data": {
      "text/plain": [
       "(torch.Size([5, 1, 20]), torch.Size([1, 3, 32, 104]))"
      ]
     },
     "execution_count": 40,
     "metadata": {},
     "output_type": "execute_result"
    }
   ],
   "source": [
    "preds.size(), x.size()\n"
   ]
  }
 ],
 "metadata": {
  "kernelspec": {
   "display_name": "Python 3",
   "language": "python",
   "name": "python3"
  },
  "language_info": {
   "codemirror_mode": {
    "name": "ipython",
    "version": 3
   },
   "file_extension": ".py",
   "mimetype": "text/x-python",
   "name": "python",
   "nbconvert_exporter": "python",
   "pygments_lexer": "ipython3",
   "version": "3.6.10"
  }
 },
 "nbformat": 4,
 "nbformat_minor": 1
}